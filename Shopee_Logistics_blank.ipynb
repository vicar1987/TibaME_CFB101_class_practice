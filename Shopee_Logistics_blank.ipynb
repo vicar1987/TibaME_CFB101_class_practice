{
 "cells": [
  {
   "cell_type": "raw",
   "metadata": {},
   "source": [
    "https://www.kaggle.com/c/open-shopee-code-league-logistic"
   ]
  },
  {
   "cell_type": "raw",
   "metadata": {},
   "source": [
    "Task: 偵測包裹是否延誤\n",
    "\n",
    "第一次送貨不成功，會進行第二次送貨\n",
    "第二次送貨不能超過3天\n",
    "時間格式：UTC + 8\n",
    "工作日：Monday ~ Saturday\n",
    "Day 0 = Day of Pickup; Day 1 = Next Day after Pickup\n",
    "公定假日：\n",
    "    2020-03-08\n",
    "    2020-03-25\n",
    "    2020-03-30\n",
    "    2020-03-31\n",
    "SLA:\n",
    "|                |  Metro Manila  |      Luzon     |     Visayas    |    Mindanao    |\n",
    "| -------------- | -------------- | -------------- | -------------- | -------------- |\n",
    "|  Metro Manila  | 3 working days | 5 working days | 7 working days | 7 working days |\n",
    "|      Luzon     | 5 working days | 5 working days | 7 working days | 7 working days |\n",
    "|     Visayas    | 7 working days | 7 working days | 7 working days | 7 working days |\n",
    "|    Mindanao    | 7 working days | 7 working days | 7 working days | 7 working days |"
   ]
  },
  {
   "cell_type": "raw",
   "metadata": {},
   "source": [
    "Steps:\n",
    "1. 算出第一次及第二次運貨時間\n",
    "2. 算出每個地點的標準送貨時間\n",
    "3. 比較出是否有延誤"
   ]
  },
  {
   "cell_type": "code",
   "execution_count": 2,
   "metadata": {
    "ExecuteTime": {
     "end_time": "2021-05-14T05:43:17.482425Z",
     "start_time": "2021-05-14T05:43:17.015968Z"
    }
   },
   "outputs": [],
   "source": [
    "import pandas as pd\n",
    "from datetime import datetime, timedelta"
   ]
  },
  {
   "cell_type": "raw",
   "metadata": {},
   "source": [
    "#1 把delivery_orders_march.csv讀進來"
   ]
  },
  {
   "cell_type": "code",
   "execution_count": 4,
   "metadata": {
    "ExecuteTime": {
     "end_time": "2021-05-14T05:43:52.817617Z",
     "start_time": "2021-05-14T05:43:44.181240Z"
    }
   },
   "outputs": [],
   "source": [
    "df = pd.read_csv('delivery_orders_march.csv')"
   ]
  },
  {
   "cell_type": "code",
   "execution_count": 5,
   "metadata": {
    "ExecuteTime": {
     "end_time": "2021-05-14T05:43:55.345209Z",
     "start_time": "2021-05-14T05:43:55.326042Z"
    },
    "scrolled": true
   },
   "outputs": [
    {
     "data": {
      "text/html": [
       "<div>\n",
       "<style scoped>\n",
       "    .dataframe tbody tr th:only-of-type {\n",
       "        vertical-align: middle;\n",
       "    }\n",
       "\n",
       "    .dataframe tbody tr th {\n",
       "        vertical-align: top;\n",
       "    }\n",
       "\n",
       "    .dataframe thead th {\n",
       "        text-align: right;\n",
       "    }\n",
       "</style>\n",
       "<table border=\"1\" class=\"dataframe\">\n",
       "  <thead>\n",
       "    <tr style=\"text-align: right;\">\n",
       "      <th></th>\n",
       "      <th>orderid</th>\n",
       "      <th>pick</th>\n",
       "      <th>1st_deliver_attempt</th>\n",
       "      <th>2nd_deliver_attempt</th>\n",
       "      <th>buyeraddress</th>\n",
       "      <th>selleraddress</th>\n",
       "    </tr>\n",
       "  </thead>\n",
       "  <tbody>\n",
       "    <tr>\n",
       "      <th>0</th>\n",
       "      <td>2215676524</td>\n",
       "      <td>1583138397</td>\n",
       "      <td>1.583385e+09</td>\n",
       "      <td>NaN</td>\n",
       "      <td>Baging ldl BUENAVISTA,PATAG.CAGAYAN Buagsong,c...</td>\n",
       "      <td>Pantranco vill. 417 Warehouse# katipunan 532 (...</td>\n",
       "    </tr>\n",
       "    <tr>\n",
       "      <th>1</th>\n",
       "      <td>2219624609</td>\n",
       "      <td>1583309968</td>\n",
       "      <td>1.583463e+09</td>\n",
       "      <td>1.583799e+09</td>\n",
       "      <td>coloma's quzom CASANAS Site1 Masiyan 533A Stol...</td>\n",
       "      <td>BLDG 210A Moras C42B 2B16,168 church) Complex ...</td>\n",
       "    </tr>\n",
       "    <tr>\n",
       "      <th>2</th>\n",
       "      <td>2220979489</td>\n",
       "      <td>1583306434</td>\n",
       "      <td>1.583460e+09</td>\n",
       "      <td>NaN</td>\n",
       "      <td>21-O LumangDaan,Capitangan,Abucay,Bataan .Bign...</td>\n",
       "      <td>#66 150-C, DRIVE, Milagros Joe socorro Metro M...</td>\n",
       "    </tr>\n",
       "    <tr>\n",
       "      <th>3</th>\n",
       "      <td>2221066352</td>\n",
       "      <td>1583419016</td>\n",
       "      <td>1.583556e+09</td>\n",
       "      <td>NaN</td>\n",
       "      <td>616Espiritu MARTINVILLE,MANUYO #5paraiso kengi...</td>\n",
       "      <td>999maII 201,26 Villaruel Barretto gen.t number...</td>\n",
       "    </tr>\n",
       "    <tr>\n",
       "      <th>4</th>\n",
       "      <td>2222478803</td>\n",
       "      <td>1583318305</td>\n",
       "      <td>1.583480e+09</td>\n",
       "      <td>NaN</td>\n",
       "      <td>L042 Summerbreezee1 L2(Balanay analyn Lot760 C...</td>\n",
       "      <td>G66MANILA Hiyas Fitness MAYSILO magdiwang Lt.4...</td>\n",
       "    </tr>\n",
       "  </tbody>\n",
       "</table>\n",
       "</div>"
      ],
      "text/plain": [
       "      orderid        pick  1st_deliver_attempt  2nd_deliver_attempt  \\\n",
       "0  2215676524  1583138397         1.583385e+09                  NaN   \n",
       "1  2219624609  1583309968         1.583463e+09         1.583799e+09   \n",
       "2  2220979489  1583306434         1.583460e+09                  NaN   \n",
       "3  2221066352  1583419016         1.583556e+09                  NaN   \n",
       "4  2222478803  1583318305         1.583480e+09                  NaN   \n",
       "\n",
       "                                        buyeraddress  \\\n",
       "0  Baging ldl BUENAVISTA,PATAG.CAGAYAN Buagsong,c...   \n",
       "1  coloma's quzom CASANAS Site1 Masiyan 533A Stol...   \n",
       "2  21-O LumangDaan,Capitangan,Abucay,Bataan .Bign...   \n",
       "3  616Espiritu MARTINVILLE,MANUYO #5paraiso kengi...   \n",
       "4  L042 Summerbreezee1 L2(Balanay analyn Lot760 C...   \n",
       "\n",
       "                                       selleraddress  \n",
       "0  Pantranco vill. 417 Warehouse# katipunan 532 (...  \n",
       "1  BLDG 210A Moras C42B 2B16,168 church) Complex ...  \n",
       "2  #66 150-C, DRIVE, Milagros Joe socorro Metro M...  \n",
       "3  999maII 201,26 Villaruel Barretto gen.t number...  \n",
       "4  G66MANILA Hiyas Fitness MAYSILO magdiwang Lt.4...  "
      ]
     },
     "execution_count": 5,
     "metadata": {},
     "output_type": "execute_result"
    }
   ],
   "source": [
    "df.head()"
   ]
  },
  {
   "cell_type": "raw",
   "metadata": {},
   "source": [
    "#2 取出 pick 的第一個欄位\n",
    "   利用 pd.Timestamp() 把 pick 轉換成人看得懂的時間"
   ]
  },
  {
   "cell_type": "code",
   "execution_count": 8,
   "metadata": {
    "ExecuteTime": {
     "end_time": "2021-05-14T05:47:53.415335Z",
     "start_time": "2021-05-14T05:47:53.403370Z"
    }
   },
   "outputs": [
    {
     "data": {
      "text/plain": [
       "1583138397"
      ]
     },
     "execution_count": 8,
     "metadata": {},
     "output_type": "execute_result"
    }
   ],
   "source": [
    "df['pick'][0]"
   ]
  },
  {
   "cell_type": "code",
   "execution_count": 9,
   "metadata": {
    "ExecuteTime": {
     "end_time": "2021-05-14T05:49:19.049431Z",
     "start_time": "2021-05-14T05:49:19.030723Z"
    }
   },
   "outputs": [
    {
     "data": {
      "text/plain": [
       "Timestamp('2020-03-02 08:39:57')"
      ]
     },
     "execution_count": 9,
     "metadata": {},
     "output_type": "execute_result"
    }
   ],
   "source": [
    "pd.Timestamp(df['pick'][0], unit='s')"
   ]
  },
  {
   "cell_type": "raw",
   "metadata": {},
   "source": [
    "#3 取出 pick 的第一個欄位\n",
    "   利用 pd.Timestamp() 把 pick 欄位轉成人看得懂的時間\n",
    "   並且把時間轉換成新加坡時間"
   ]
  },
  {
   "cell_type": "code",
   "execution_count": 10,
   "metadata": {
    "ExecuteTime": {
     "end_time": "2021-05-14T05:53:48.614952Z",
     "start_time": "2021-05-14T05:53:48.590949Z"
    }
   },
   "outputs": [
    {
     "data": {
      "text/plain": [
       "Timestamp('2020-03-02 16:39:57+0800', tz='Asia/Singapore')"
      ]
     },
     "execution_count": 10,
     "metadata": {},
     "output_type": "execute_result"
    }
   ],
   "source": [
    "pd.Timestamp(df['pick'][0], unit='s' , tz='Asia/Singapore')"
   ]
  },
  {
   "cell_type": "code",
   "execution_count": 11,
   "metadata": {
    "ExecuteTime": {
     "end_time": "2021-05-14T05:54:42.414497Z",
     "start_time": "2021-05-14T05:54:42.393487Z"
    }
   },
   "outputs": [
    {
     "data": {
      "text/plain": [
       "Timestamp('2020-03-02 16:39:57')"
      ]
     },
     "execution_count": 11,
     "metadata": {},
     "output_type": "execute_result"
    }
   ],
   "source": [
    "pd.Timestamp(df['pick'][0], unit='s') + timedelta(hours=8)"
   ]
  },
  {
   "cell_type": "code",
   "execution_count": null,
   "metadata": {},
   "outputs": [],
   "source": []
  },
  {
   "cell_type": "raw",
   "metadata": {},
   "source": [
    "#4 取出 pick 的第一個欄位\n",
    "   利用 pd.Timestamp() 把 pick 欄位轉成人看得懂的時間\n",
    "   並且把時間轉換成新加坡時間\n",
    "   只取日期出來"
   ]
  },
  {
   "cell_type": "code",
   "execution_count": 12,
   "metadata": {
    "ExecuteTime": {
     "end_time": "2021-05-14T05:56:23.709567Z",
     "start_time": "2021-05-14T05:56:23.700560Z"
    }
   },
   "outputs": [
    {
     "data": {
      "text/plain": [
       "datetime.date(2020, 3, 2)"
      ]
     },
     "execution_count": 12,
     "metadata": {},
     "output_type": "execute_result"
    }
   ],
   "source": [
    "pd.Timestamp(df['pick'][0], unit='s' , tz='Asia/Singapore').date()"
   ]
  },
  {
   "cell_type": "raw",
   "metadata": {},
   "source": [
    "#5 把第4題的結果套用在整個 pick 欄位 並存在新的 pick_date 欄位"
   ]
  },
  {
   "cell_type": "code",
   "execution_count": 16,
   "metadata": {
    "ExecuteTime": {
     "end_time": "2021-05-14T06:01:41.356182Z",
     "start_time": "2021-05-14T06:01:11.139624Z"
    }
   },
   "outputs": [],
   "source": [
    "df['pick_date'] = df['pick'].apply(lambda x: pd.Timestamp(x, unit='s' , tz='Asia/Singapore').date())"
   ]
  },
  {
   "cell_type": "code",
   "execution_count": 17,
   "metadata": {
    "ExecuteTime": {
     "end_time": "2021-05-14T06:02:07.997641Z",
     "start_time": "2021-05-14T06:02:07.981685Z"
    }
   },
   "outputs": [
    {
     "data": {
      "text/html": [
       "<div>\n",
       "<style scoped>\n",
       "    .dataframe tbody tr th:only-of-type {\n",
       "        vertical-align: middle;\n",
       "    }\n",
       "\n",
       "    .dataframe tbody tr th {\n",
       "        vertical-align: top;\n",
       "    }\n",
       "\n",
       "    .dataframe thead th {\n",
       "        text-align: right;\n",
       "    }\n",
       "</style>\n",
       "<table border=\"1\" class=\"dataframe\">\n",
       "  <thead>\n",
       "    <tr style=\"text-align: right;\">\n",
       "      <th></th>\n",
       "      <th>orderid</th>\n",
       "      <th>pick</th>\n",
       "      <th>1st_deliver_attempt</th>\n",
       "      <th>2nd_deliver_attempt</th>\n",
       "      <th>buyeraddress</th>\n",
       "      <th>selleraddress</th>\n",
       "      <th>pick_date</th>\n",
       "    </tr>\n",
       "  </thead>\n",
       "  <tbody>\n",
       "    <tr>\n",
       "      <th>0</th>\n",
       "      <td>2215676524</td>\n",
       "      <td>1583138397</td>\n",
       "      <td>1.583385e+09</td>\n",
       "      <td>NaN</td>\n",
       "      <td>Baging ldl BUENAVISTA,PATAG.CAGAYAN Buagsong,c...</td>\n",
       "      <td>Pantranco vill. 417 Warehouse# katipunan 532 (...</td>\n",
       "      <td>2020-03-02</td>\n",
       "    </tr>\n",
       "    <tr>\n",
       "      <th>1</th>\n",
       "      <td>2219624609</td>\n",
       "      <td>1583309968</td>\n",
       "      <td>1.583463e+09</td>\n",
       "      <td>1.583799e+09</td>\n",
       "      <td>coloma's quzom CASANAS Site1 Masiyan 533A Stol...</td>\n",
       "      <td>BLDG 210A Moras C42B 2B16,168 church) Complex ...</td>\n",
       "      <td>2020-03-04</td>\n",
       "    </tr>\n",
       "    <tr>\n",
       "      <th>2</th>\n",
       "      <td>2220979489</td>\n",
       "      <td>1583306434</td>\n",
       "      <td>1.583460e+09</td>\n",
       "      <td>NaN</td>\n",
       "      <td>21-O LumangDaan,Capitangan,Abucay,Bataan .Bign...</td>\n",
       "      <td>#66 150-C, DRIVE, Milagros Joe socorro Metro M...</td>\n",
       "      <td>2020-03-04</td>\n",
       "    </tr>\n",
       "    <tr>\n",
       "      <th>3</th>\n",
       "      <td>2221066352</td>\n",
       "      <td>1583419016</td>\n",
       "      <td>1.583556e+09</td>\n",
       "      <td>NaN</td>\n",
       "      <td>616Espiritu MARTINVILLE,MANUYO #5paraiso kengi...</td>\n",
       "      <td>999maII 201,26 Villaruel Barretto gen.t number...</td>\n",
       "      <td>2020-03-05</td>\n",
       "    </tr>\n",
       "    <tr>\n",
       "      <th>4</th>\n",
       "      <td>2222478803</td>\n",
       "      <td>1583318305</td>\n",
       "      <td>1.583480e+09</td>\n",
       "      <td>NaN</td>\n",
       "      <td>L042 Summerbreezee1 L2(Balanay analyn Lot760 C...</td>\n",
       "      <td>G66MANILA Hiyas Fitness MAYSILO magdiwang Lt.4...</td>\n",
       "      <td>2020-03-04</td>\n",
       "    </tr>\n",
       "  </tbody>\n",
       "</table>\n",
       "</div>"
      ],
      "text/plain": [
       "      orderid        pick  1st_deliver_attempt  2nd_deliver_attempt  \\\n",
       "0  2215676524  1583138397         1.583385e+09                  NaN   \n",
       "1  2219624609  1583309968         1.583463e+09         1.583799e+09   \n",
       "2  2220979489  1583306434         1.583460e+09                  NaN   \n",
       "3  2221066352  1583419016         1.583556e+09                  NaN   \n",
       "4  2222478803  1583318305         1.583480e+09                  NaN   \n",
       "\n",
       "                                        buyeraddress  \\\n",
       "0  Baging ldl BUENAVISTA,PATAG.CAGAYAN Buagsong,c...   \n",
       "1  coloma's quzom CASANAS Site1 Masiyan 533A Stol...   \n",
       "2  21-O LumangDaan,Capitangan,Abucay,Bataan .Bign...   \n",
       "3  616Espiritu MARTINVILLE,MANUYO #5paraiso kengi...   \n",
       "4  L042 Summerbreezee1 L2(Balanay analyn Lot760 C...   \n",
       "\n",
       "                                       selleraddress   pick_date  \n",
       "0  Pantranco vill. 417 Warehouse# katipunan 532 (...  2020-03-02  \n",
       "1  BLDG 210A Moras C42B 2B16,168 church) Complex ...  2020-03-04  \n",
       "2  #66 150-C, DRIVE, Milagros Joe socorro Metro M...  2020-03-04  \n",
       "3  999maII 201,26 Villaruel Barretto gen.t number...  2020-03-05  \n",
       "4  G66MANILA Hiyas Fitness MAYSILO magdiwang Lt.4...  2020-03-04  "
      ]
     },
     "execution_count": 17,
     "metadata": {},
     "output_type": "execute_result"
    }
   ],
   "source": [
    "df.head()"
   ]
  },
  {
   "cell_type": "raw",
   "metadata": {},
   "source": [
    "#6 針對 1st_deliver_attempt, 2nd_deliver_attempt 也轉換成日期 並存在新的 first_date, second_date 欄位 （參考第5題）"
   ]
  },
  {
   "cell_type": "code",
   "execution_count": 18,
   "metadata": {
    "ExecuteTime": {
     "end_time": "2021-05-14T06:02:49.447428Z",
     "start_time": "2021-05-14T06:02:12.162389Z"
    }
   },
   "outputs": [],
   "source": [
    "df['first_date'] = df['1st_deliver_attempt'].apply(lambda x: pd.Timestamp(x, unit='s' , tz='Asia/Singapore').date())"
   ]
  },
  {
   "cell_type": "code",
   "execution_count": 19,
   "metadata": {
    "ExecuteTime": {
     "end_time": "2021-05-14T06:03:15.588298Z",
     "start_time": "2021-05-14T06:02:49.497299Z"
    }
   },
   "outputs": [],
   "source": [
    "df['second_date'] = df['2nd_deliver_attempt'].apply(lambda x: pd.Timestamp(x, unit='s' , tz='Asia/Singapore').date())"
   ]
  },
  {
   "cell_type": "code",
   "execution_count": 20,
   "metadata": {
    "ExecuteTime": {
     "end_time": "2021-05-14T06:03:17.477014Z",
     "start_time": "2021-05-14T06:03:17.462670Z"
    }
   },
   "outputs": [
    {
     "data": {
      "text/html": [
       "<div>\n",
       "<style scoped>\n",
       "    .dataframe tbody tr th:only-of-type {\n",
       "        vertical-align: middle;\n",
       "    }\n",
       "\n",
       "    .dataframe tbody tr th {\n",
       "        vertical-align: top;\n",
       "    }\n",
       "\n",
       "    .dataframe thead th {\n",
       "        text-align: right;\n",
       "    }\n",
       "</style>\n",
       "<table border=\"1\" class=\"dataframe\">\n",
       "  <thead>\n",
       "    <tr style=\"text-align: right;\">\n",
       "      <th></th>\n",
       "      <th>orderid</th>\n",
       "      <th>pick</th>\n",
       "      <th>1st_deliver_attempt</th>\n",
       "      <th>2nd_deliver_attempt</th>\n",
       "      <th>buyeraddress</th>\n",
       "      <th>selleraddress</th>\n",
       "      <th>pick_date</th>\n",
       "      <th>first_date</th>\n",
       "      <th>second_date</th>\n",
       "    </tr>\n",
       "  </thead>\n",
       "  <tbody>\n",
       "    <tr>\n",
       "      <th>0</th>\n",
       "      <td>2215676524</td>\n",
       "      <td>1583138397</td>\n",
       "      <td>1.583385e+09</td>\n",
       "      <td>NaN</td>\n",
       "      <td>Baging ldl BUENAVISTA,PATAG.CAGAYAN Buagsong,c...</td>\n",
       "      <td>Pantranco vill. 417 Warehouse# katipunan 532 (...</td>\n",
       "      <td>2020-03-02</td>\n",
       "      <td>2020-03-05</td>\n",
       "      <td>NaT</td>\n",
       "    </tr>\n",
       "    <tr>\n",
       "      <th>1</th>\n",
       "      <td>2219624609</td>\n",
       "      <td>1583309968</td>\n",
       "      <td>1.583463e+09</td>\n",
       "      <td>1.583799e+09</td>\n",
       "      <td>coloma's quzom CASANAS Site1 Masiyan 533A Stol...</td>\n",
       "      <td>BLDG 210A Moras C42B 2B16,168 church) Complex ...</td>\n",
       "      <td>2020-03-04</td>\n",
       "      <td>2020-03-06</td>\n",
       "      <td>2020-03-10</td>\n",
       "    </tr>\n",
       "    <tr>\n",
       "      <th>2</th>\n",
       "      <td>2220979489</td>\n",
       "      <td>1583306434</td>\n",
       "      <td>1.583460e+09</td>\n",
       "      <td>NaN</td>\n",
       "      <td>21-O LumangDaan,Capitangan,Abucay,Bataan .Bign...</td>\n",
       "      <td>#66 150-C, DRIVE, Milagros Joe socorro Metro M...</td>\n",
       "      <td>2020-03-04</td>\n",
       "      <td>2020-03-06</td>\n",
       "      <td>NaT</td>\n",
       "    </tr>\n",
       "    <tr>\n",
       "      <th>3</th>\n",
       "      <td>2221066352</td>\n",
       "      <td>1583419016</td>\n",
       "      <td>1.583556e+09</td>\n",
       "      <td>NaN</td>\n",
       "      <td>616Espiritu MARTINVILLE,MANUYO #5paraiso kengi...</td>\n",
       "      <td>999maII 201,26 Villaruel Barretto gen.t number...</td>\n",
       "      <td>2020-03-05</td>\n",
       "      <td>2020-03-07</td>\n",
       "      <td>NaT</td>\n",
       "    </tr>\n",
       "    <tr>\n",
       "      <th>4</th>\n",
       "      <td>2222478803</td>\n",
       "      <td>1583318305</td>\n",
       "      <td>1.583480e+09</td>\n",
       "      <td>NaN</td>\n",
       "      <td>L042 Summerbreezee1 L2(Balanay analyn Lot760 C...</td>\n",
       "      <td>G66MANILA Hiyas Fitness MAYSILO magdiwang Lt.4...</td>\n",
       "      <td>2020-03-04</td>\n",
       "      <td>2020-03-06</td>\n",
       "      <td>NaT</td>\n",
       "    </tr>\n",
       "  </tbody>\n",
       "</table>\n",
       "</div>"
      ],
      "text/plain": [
       "      orderid        pick  1st_deliver_attempt  2nd_deliver_attempt  \\\n",
       "0  2215676524  1583138397         1.583385e+09                  NaN   \n",
       "1  2219624609  1583309968         1.583463e+09         1.583799e+09   \n",
       "2  2220979489  1583306434         1.583460e+09                  NaN   \n",
       "3  2221066352  1583419016         1.583556e+09                  NaN   \n",
       "4  2222478803  1583318305         1.583480e+09                  NaN   \n",
       "\n",
       "                                        buyeraddress  \\\n",
       "0  Baging ldl BUENAVISTA,PATAG.CAGAYAN Buagsong,c...   \n",
       "1  coloma's quzom CASANAS Site1 Masiyan 533A Stol...   \n",
       "2  21-O LumangDaan,Capitangan,Abucay,Bataan .Bign...   \n",
       "3  616Espiritu MARTINVILLE,MANUYO #5paraiso kengi...   \n",
       "4  L042 Summerbreezee1 L2(Balanay analyn Lot760 C...   \n",
       "\n",
       "                                       selleraddress   pick_date  first_date  \\\n",
       "0  Pantranco vill. 417 Warehouse# katipunan 532 (...  2020-03-02  2020-03-05   \n",
       "1  BLDG 210A Moras C42B 2B16,168 church) Complex ...  2020-03-04  2020-03-06   \n",
       "2  #66 150-C, DRIVE, Milagros Joe socorro Metro M...  2020-03-04  2020-03-06   \n",
       "3  999maII 201,26 Villaruel Barretto gen.t number...  2020-03-05  2020-03-07   \n",
       "4  G66MANILA Hiyas Fitness MAYSILO magdiwang Lt.4...  2020-03-04  2020-03-06   \n",
       "\n",
       "  second_date  \n",
       "0         NaT  \n",
       "1  2020-03-10  \n",
       "2         NaT  \n",
       "3         NaT  \n",
       "4         NaT  "
      ]
     },
     "execution_count": 20,
     "metadata": {},
     "output_type": "execute_result"
    }
   ],
   "source": [
    "df.head()"
   ]
  },
  {
   "cell_type": "raw",
   "metadata": {},
   "source": [
    "#7 以list的型態列出所有的非工作日\n",
    "   日期要以日期型態表示"
   ]
  },
  {
   "cell_type": "code",
   "execution_count": 21,
   "metadata": {
    "ExecuteTime": {
     "end_time": "2021-05-14T06:09:54.301751Z",
     "start_time": "2021-05-14T06:09:54.290727Z"
    }
   },
   "outputs": [],
   "source": [
    "holidays = ['2020-03-08',\n",
    "           '2020-03-15',\n",
    "           '2020-03-22',\n",
    "           '2020-03-25',\n",
    "           '2020-03-29',\n",
    "           '2020-03-30',\n",
    "           '2020-03-31',\n",
    "           '2020-04-05']\n",
    "\n",
    "h_days = [datetime.strptime(i, '%Y-%m-%d').date() for i in holidays]"
   ]
  },
  {
   "cell_type": "code",
   "execution_count": 22,
   "metadata": {
    "ExecuteTime": {
     "end_time": "2021-05-14T06:10:05.033448Z",
     "start_time": "2021-05-14T06:10:05.019472Z"
    }
   },
   "outputs": [
    {
     "data": {
      "text/plain": [
       "[datetime.date(2020, 3, 8),\n",
       " datetime.date(2020, 3, 15),\n",
       " datetime.date(2020, 3, 22),\n",
       " datetime.date(2020, 3, 25),\n",
       " datetime.date(2020, 3, 29),\n",
       " datetime.date(2020, 3, 30),\n",
       " datetime.date(2020, 3, 31),\n",
       " datetime.date(2020, 4, 5)]"
      ]
     },
     "execution_count": 22,
     "metadata": {},
     "output_type": "execute_result"
    }
   ],
   "source": [
    "h_days"
   ]
  },
  {
   "cell_type": "raw",
   "metadata": {},
   "source": [
    "#8 取出其中一個非工作日的日期\n",
    "   並用這個日期找出取貨日 pick_date 到第一次送貨的日期 first_date 中有出現這個日期的資料\n",
    "   提示：利用 loc 做判斷"
   ]
  },
  {
   "cell_type": "code",
   "execution_count": 23,
   "metadata": {
    "ExecuteTime": {
     "end_time": "2021-05-14T06:10:41.740687Z",
     "start_time": "2021-05-14T06:10:41.726176Z"
    }
   },
   "outputs": [
    {
     "data": {
      "text/plain": [
       "datetime.date(2020, 3, 15)"
      ]
     },
     "execution_count": 23,
     "metadata": {},
     "output_type": "execute_result"
    }
   ],
   "source": [
    "h_days[1]"
   ]
  },
  {
   "cell_type": "code",
   "execution_count": 26,
   "metadata": {
    "ExecuteTime": {
     "end_time": "2021-05-14T06:15:02.704519Z",
     "start_time": "2021-05-14T06:15:01.787837Z"
    }
   },
   "outputs": [
    {
     "data": {
      "text/html": [
       "<div>\n",
       "<style scoped>\n",
       "    .dataframe tbody tr th:only-of-type {\n",
       "        vertical-align: middle;\n",
       "    }\n",
       "\n",
       "    .dataframe tbody tr th {\n",
       "        vertical-align: top;\n",
       "    }\n",
       "\n",
       "    .dataframe thead th {\n",
       "        text-align: right;\n",
       "    }\n",
       "</style>\n",
       "<table border=\"1\" class=\"dataframe\">\n",
       "  <thead>\n",
       "    <tr style=\"text-align: right;\">\n",
       "      <th></th>\n",
       "      <th>orderid</th>\n",
       "      <th>pick</th>\n",
       "      <th>1st_deliver_attempt</th>\n",
       "      <th>2nd_deliver_attempt</th>\n",
       "      <th>buyeraddress</th>\n",
       "      <th>selleraddress</th>\n",
       "      <th>pick_date</th>\n",
       "      <th>first_date</th>\n",
       "      <th>second_date</th>\n",
       "    </tr>\n",
       "  </thead>\n",
       "  <tbody>\n",
       "    <tr>\n",
       "      <th>176</th>\n",
       "      <td>2228636068</td>\n",
       "      <td>1583128038</td>\n",
       "      <td>1.584679e+09</td>\n",
       "      <td>1.586244e+09</td>\n",
       "      <td>333-10PA 091-15 asyong BENETES st.dalig IRRIGA...</td>\n",
       "      <td>Classics, Ciudad B-37 Ext., 128C 671 2B54-55 T...</td>\n",
       "      <td>2020-03-02</td>\n",
       "      <td>2020-03-20</td>\n",
       "      <td>2020-04-07</td>\n",
       "    </tr>\n",
       "    <tr>\n",
       "      <th>177</th>\n",
       "      <td>2228647003</td>\n",
       "      <td>1583301945</td>\n",
       "      <td>1.584338e+09</td>\n",
       "      <td>1.584525e+09</td>\n",
       "      <td>MAHUGO AEROSTAR 213-R1 P.J.Burgos 33-w Datagan...</td>\n",
       "      <td>Redgold 1739A E30 asuncion #5 274-D 0915072255...</td>\n",
       "      <td>2020-03-04</td>\n",
       "      <td>2020-03-16</td>\n",
       "      <td>2020-03-18</td>\n",
       "    </tr>\n",
       "    <tr>\n",
       "      <th>179</th>\n",
       "      <td>2228655368</td>\n",
       "      <td>1583405962</td>\n",
       "      <td>1.584606e+09</td>\n",
       "      <td>1.584896e+09</td>\n",
       "      <td>Fornilda 99-B Alkalde 1002H Cabangila employee...</td>\n",
       "      <td>t Cendaña DOOR, Offices st,Pasay rositaville Z...</td>\n",
       "      <td>2020-03-05</td>\n",
       "      <td>2020-03-19</td>\n",
       "      <td>2020-03-23</td>\n",
       "    </tr>\n",
       "    <tr>\n",
       "      <th>267</th>\n",
       "      <td>2229099066</td>\n",
       "      <td>1583314134</td>\n",
       "      <td>1.584599e+09</td>\n",
       "      <td>NaN</td>\n",
       "      <td>wall), BLDG.12, 129-1 (LANDMARK:NEAR Mandaue(b...</td>\n",
       "      <td>kaligayahan bldg. 145,Pasay E26 1R-02-04 411A,...</td>\n",
       "      <td>2020-03-04</td>\n",
       "      <td>2020-03-19</td>\n",
       "      <td>NaT</td>\n",
       "    </tr>\n",
       "    <tr>\n",
       "      <th>280</th>\n",
       "      <td>2229189393</td>\n",
       "      <td>1583394946</td>\n",
       "      <td>1.584325e+09</td>\n",
       "      <td>NaN</td>\n",
       "      <td>escano st.dgat residence(Near 398,sitio JBOY 2...</td>\n",
       "      <td>Adelanto Halcon Coating 608 864X Unit607 Cente...</td>\n",
       "      <td>2020-03-05</td>\n",
       "      <td>2020-03-16</td>\n",
       "      <td>NaT</td>\n",
       "    </tr>\n",
       "    <tr>\n",
       "      <th>...</th>\n",
       "      <td>...</td>\n",
       "      <td>...</td>\n",
       "      <td>...</td>\n",
       "      <td>...</td>\n",
       "      <td>...</td>\n",
       "      <td>...</td>\n",
       "      <td>...</td>\n",
       "      <td>...</td>\n",
       "      <td>...</td>\n",
       "    </tr>\n",
       "    <tr>\n",
       "      <th>3171796</th>\n",
       "      <td>2332961070</td>\n",
       "      <td>1584165804</td>\n",
       "      <td>1.584334e+09</td>\n",
       "      <td>NaN</td>\n",
       "      <td>Road,Granada buildinv Communal,buhangin silcas...</td>\n",
       "      <td>Crispln 1G07-08 Principe O.M. Gawad cityplaza ...</td>\n",
       "      <td>2020-03-14</td>\n",
       "      <td>2020-03-16</td>\n",
       "      <td>NaT</td>\n",
       "    </tr>\n",
       "    <tr>\n",
       "      <th>3171824</th>\n",
       "      <td>2333158414</td>\n",
       "      <td>1584149600</td>\n",
       "      <td>1.584775e+09</td>\n",
       "      <td>NaN</td>\n",
       "      <td>btq. aguho,Daanbantayan,Cebu SMART avenue,brgy...</td>\n",
       "      <td>276-B 2057 BRIDGE (Go Banjar recto Aries Metro...</td>\n",
       "      <td>2020-03-14</td>\n",
       "      <td>2020-03-21</td>\n",
       "      <td>NaT</td>\n",
       "    </tr>\n",
       "    <tr>\n",
       "      <th>3171830</th>\n",
       "      <td>2333183880</td>\n",
       "      <td>1584178490</td>\n",
       "      <td>1.584587e+09</td>\n",
       "      <td>NaN</td>\n",
       "      <td>brgqy 203B. ADI Dist2, Luzon</td>\n",
       "      <td>AOO2 Sobrepeña Marquez Chinabank Reymundo BIdg...</td>\n",
       "      <td>2020-03-14</td>\n",
       "      <td>2020-03-19</td>\n",
       "      <td>NaT</td>\n",
       "    </tr>\n",
       "    <tr>\n",
       "      <th>3171851</th>\n",
       "      <td>2333301517</td>\n",
       "      <td>1584184497</td>\n",
       "      <td>1.584950e+09</td>\n",
       "      <td>1.585267e+09</td>\n",
       "      <td>DTI-Camiguin Sait #130m.h BLK.12lot Fₗₒₒᵣ, ave...</td>\n",
       "      <td>hours: Balarao 566a Alta super8 Makaturing Rd ...</td>\n",
       "      <td>2020-03-14</td>\n",
       "      <td>2020-03-23</td>\n",
       "      <td>2020-03-27</td>\n",
       "    </tr>\n",
       "    <tr>\n",
       "      <th>3171865</th>\n",
       "      <td>2333445855</td>\n",
       "      <td>1584185522</td>\n",
       "      <td>1.584598e+09</td>\n",
       "      <td>1.584928e+09</td>\n",
       "      <td>ting COMP.GORORDO Mohawk B6L12 sopie broadcast...</td>\n",
       "      <td>lagdameo alcaceria K6th 7051 SF61 1038 Barbers...</td>\n",
       "      <td>2020-03-14</td>\n",
       "      <td>2020-03-19</td>\n",
       "      <td>2020-03-23</td>\n",
       "    </tr>\n",
       "  </tbody>\n",
       "</table>\n",
       "<p>711462 rows × 9 columns</p>\n",
       "</div>"
      ],
      "text/plain": [
       "            orderid        pick  1st_deliver_attempt  2nd_deliver_attempt  \\\n",
       "176      2228636068  1583128038         1.584679e+09         1.586244e+09   \n",
       "177      2228647003  1583301945         1.584338e+09         1.584525e+09   \n",
       "179      2228655368  1583405962         1.584606e+09         1.584896e+09   \n",
       "267      2229099066  1583314134         1.584599e+09                  NaN   \n",
       "280      2229189393  1583394946         1.584325e+09                  NaN   \n",
       "...             ...         ...                  ...                  ...   \n",
       "3171796  2332961070  1584165804         1.584334e+09                  NaN   \n",
       "3171824  2333158414  1584149600         1.584775e+09                  NaN   \n",
       "3171830  2333183880  1584178490         1.584587e+09                  NaN   \n",
       "3171851  2333301517  1584184497         1.584950e+09         1.585267e+09   \n",
       "3171865  2333445855  1584185522         1.584598e+09         1.584928e+09   \n",
       "\n",
       "                                              buyeraddress  \\\n",
       "176      333-10PA 091-15 asyong BENETES st.dalig IRRIGA...   \n",
       "177      MAHUGO AEROSTAR 213-R1 P.J.Burgos 33-w Datagan...   \n",
       "179      Fornilda 99-B Alkalde 1002H Cabangila employee...   \n",
       "267      wall), BLDG.12, 129-1 (LANDMARK:NEAR Mandaue(b...   \n",
       "280      escano st.dgat residence(Near 398,sitio JBOY 2...   \n",
       "...                                                    ...   \n",
       "3171796  Road,Granada buildinv Communal,buhangin silcas...   \n",
       "3171824  btq. aguho,Daanbantayan,Cebu SMART avenue,brgy...   \n",
       "3171830                       brgqy 203B. ADI Dist2, Luzon   \n",
       "3171851  DTI-Camiguin Sait #130m.h BLK.12lot Fₗₒₒᵣ, ave...   \n",
       "3171865  ting COMP.GORORDO Mohawk B6L12 sopie broadcast...   \n",
       "\n",
       "                                             selleraddress   pick_date  \\\n",
       "176      Classics, Ciudad B-37 Ext., 128C 671 2B54-55 T...  2020-03-02   \n",
       "177      Redgold 1739A E30 asuncion #5 274-D 0915072255...  2020-03-04   \n",
       "179      t Cendaña DOOR, Offices st,Pasay rositaville Z...  2020-03-05   \n",
       "267      kaligayahan bldg. 145,Pasay E26 1R-02-04 411A,...  2020-03-04   \n",
       "280      Adelanto Halcon Coating 608 864X Unit607 Cente...  2020-03-05   \n",
       "...                                                    ...         ...   \n",
       "3171796  Crispln 1G07-08 Principe O.M. Gawad cityplaza ...  2020-03-14   \n",
       "3171824  276-B 2057 BRIDGE (Go Banjar recto Aries Metro...  2020-03-14   \n",
       "3171830  AOO2 Sobrepeña Marquez Chinabank Reymundo BIdg...  2020-03-14   \n",
       "3171851  hours: Balarao 566a Alta super8 Makaturing Rd ...  2020-03-14   \n",
       "3171865  lagdameo alcaceria K6th 7051 SF61 1038 Barbers...  2020-03-14   \n",
       "\n",
       "         first_date second_date  \n",
       "176      2020-03-20  2020-04-07  \n",
       "177      2020-03-16  2020-03-18  \n",
       "179      2020-03-19  2020-03-23  \n",
       "267      2020-03-19         NaT  \n",
       "280      2020-03-16         NaT  \n",
       "...             ...         ...  \n",
       "3171796  2020-03-16         NaT  \n",
       "3171824  2020-03-21         NaT  \n",
       "3171830  2020-03-19         NaT  \n",
       "3171851  2020-03-23  2020-03-27  \n",
       "3171865  2020-03-19  2020-03-23  \n",
       "\n",
       "[711462 rows x 9 columns]"
      ]
     },
     "execution_count": 26,
     "metadata": {},
     "output_type": "execute_result"
    }
   ],
   "source": [
    "df.loc[(df['pick_date'] <= h_days[1]) & (df['first_date'] >= h_days[1]), :]"
   ]
  },
  {
   "cell_type": "code",
   "execution_count": null,
   "metadata": {},
   "outputs": [],
   "source": []
  },
  {
   "cell_type": "raw",
   "metadata": {},
   "source": [
    "#9 利用迴圈的方式找出：\n",
    "   1. 取貨日～第一次送貨日當中出現過非工作日的天數，並存成新的欄位 h_first\n",
    "   2. 第一次送貨日～第二次送貨日當中出現過非工作日的天數，並存成新的欄位 h_second"
   ]
  },
  {
   "cell_type": "code",
   "execution_count": 27,
   "metadata": {
    "ExecuteTime": {
     "end_time": "2021-05-14T06:21:19.040753Z",
     "start_time": "2021-05-14T06:21:14.853329Z"
    }
   },
   "outputs": [],
   "source": [
    "df['h_first'] = 0\n",
    "df['h_second'] = 0\n",
    "\n",
    "for i in h_days:\n",
    "    df.loc[(df['pick_date'] <= i) & (df['first_date'] >= i), 'h_first'] += 1\n",
    "    df.loc[(df['first_date'] <= i) & (df['second_date'] >= i), 'h_second'] += 1"
   ]
  },
  {
   "cell_type": "code",
   "execution_count": 28,
   "metadata": {
    "ExecuteTime": {
     "end_time": "2021-05-14T06:21:42.353126Z",
     "start_time": "2021-05-14T06:21:42.348140Z"
    }
   },
   "outputs": [
    {
     "data": {
      "text/plain": [
       "[datetime.date(2020, 3, 8),\n",
       " datetime.date(2020, 3, 15),\n",
       " datetime.date(2020, 3, 22),\n",
       " datetime.date(2020, 3, 25),\n",
       " datetime.date(2020, 3, 29),\n",
       " datetime.date(2020, 3, 30),\n",
       " datetime.date(2020, 3, 31),\n",
       " datetime.date(2020, 4, 5)]"
      ]
     },
     "execution_count": 28,
     "metadata": {},
     "output_type": "execute_result"
    }
   ],
   "source": [
    "h_days"
   ]
  },
  {
   "cell_type": "code",
   "execution_count": 29,
   "metadata": {
    "ExecuteTime": {
     "end_time": "2021-05-14T06:23:44.923252Z",
     "start_time": "2021-05-14T06:23:44.904150Z"
    }
   },
   "outputs": [
    {
     "data": {
      "text/html": [
       "<div>\n",
       "<style scoped>\n",
       "    .dataframe tbody tr th:only-of-type {\n",
       "        vertical-align: middle;\n",
       "    }\n",
       "\n",
       "    .dataframe tbody tr th {\n",
       "        vertical-align: top;\n",
       "    }\n",
       "\n",
       "    .dataframe thead th {\n",
       "        text-align: right;\n",
       "    }\n",
       "</style>\n",
       "<table border=\"1\" class=\"dataframe\">\n",
       "  <thead>\n",
       "    <tr style=\"text-align: right;\">\n",
       "      <th></th>\n",
       "      <th>orderid</th>\n",
       "      <th>pick</th>\n",
       "      <th>1st_deliver_attempt</th>\n",
       "      <th>2nd_deliver_attempt</th>\n",
       "      <th>buyeraddress</th>\n",
       "      <th>selleraddress</th>\n",
       "      <th>pick_date</th>\n",
       "      <th>first_date</th>\n",
       "      <th>second_date</th>\n",
       "      <th>h_first</th>\n",
       "      <th>h_second</th>\n",
       "    </tr>\n",
       "  </thead>\n",
       "  <tbody>\n",
       "    <tr>\n",
       "      <th>0</th>\n",
       "      <td>2215676524</td>\n",
       "      <td>1583138397</td>\n",
       "      <td>1.583385e+09</td>\n",
       "      <td>NaN</td>\n",
       "      <td>Baging ldl BUENAVISTA,PATAG.CAGAYAN Buagsong,c...</td>\n",
       "      <td>Pantranco vill. 417 Warehouse# katipunan 532 (...</td>\n",
       "      <td>2020-03-02</td>\n",
       "      <td>2020-03-05</td>\n",
       "      <td>NaT</td>\n",
       "      <td>0</td>\n",
       "      <td>0</td>\n",
       "    </tr>\n",
       "    <tr>\n",
       "      <th>1</th>\n",
       "      <td>2219624609</td>\n",
       "      <td>1583309968</td>\n",
       "      <td>1.583463e+09</td>\n",
       "      <td>1.583799e+09</td>\n",
       "      <td>coloma's quzom CASANAS Site1 Masiyan 533A Stol...</td>\n",
       "      <td>BLDG 210A Moras C42B 2B16,168 church) Complex ...</td>\n",
       "      <td>2020-03-04</td>\n",
       "      <td>2020-03-06</td>\n",
       "      <td>2020-03-10</td>\n",
       "      <td>0</td>\n",
       "      <td>1</td>\n",
       "    </tr>\n",
       "    <tr>\n",
       "      <th>2</th>\n",
       "      <td>2220979489</td>\n",
       "      <td>1583306434</td>\n",
       "      <td>1.583460e+09</td>\n",
       "      <td>NaN</td>\n",
       "      <td>21-O LumangDaan,Capitangan,Abucay,Bataan .Bign...</td>\n",
       "      <td>#66 150-C, DRIVE, Milagros Joe socorro Metro M...</td>\n",
       "      <td>2020-03-04</td>\n",
       "      <td>2020-03-06</td>\n",
       "      <td>NaT</td>\n",
       "      <td>0</td>\n",
       "      <td>0</td>\n",
       "    </tr>\n",
       "    <tr>\n",
       "      <th>3</th>\n",
       "      <td>2221066352</td>\n",
       "      <td>1583419016</td>\n",
       "      <td>1.583556e+09</td>\n",
       "      <td>NaN</td>\n",
       "      <td>616Espiritu MARTINVILLE,MANUYO #5paraiso kengi...</td>\n",
       "      <td>999maII 201,26 Villaruel Barretto gen.t number...</td>\n",
       "      <td>2020-03-05</td>\n",
       "      <td>2020-03-07</td>\n",
       "      <td>NaT</td>\n",
       "      <td>0</td>\n",
       "      <td>0</td>\n",
       "    </tr>\n",
       "    <tr>\n",
       "      <th>4</th>\n",
       "      <td>2222478803</td>\n",
       "      <td>1583318305</td>\n",
       "      <td>1.583480e+09</td>\n",
       "      <td>NaN</td>\n",
       "      <td>L042 Summerbreezee1 L2(Balanay analyn Lot760 C...</td>\n",
       "      <td>G66MANILA Hiyas Fitness MAYSILO magdiwang Lt.4...</td>\n",
       "      <td>2020-03-04</td>\n",
       "      <td>2020-03-06</td>\n",
       "      <td>NaT</td>\n",
       "      <td>0</td>\n",
       "      <td>0</td>\n",
       "    </tr>\n",
       "  </tbody>\n",
       "</table>\n",
       "</div>"
      ],
      "text/plain": [
       "      orderid        pick  1st_deliver_attempt  2nd_deliver_attempt  \\\n",
       "0  2215676524  1583138397         1.583385e+09                  NaN   \n",
       "1  2219624609  1583309968         1.583463e+09         1.583799e+09   \n",
       "2  2220979489  1583306434         1.583460e+09                  NaN   \n",
       "3  2221066352  1583419016         1.583556e+09                  NaN   \n",
       "4  2222478803  1583318305         1.583480e+09                  NaN   \n",
       "\n",
       "                                        buyeraddress  \\\n",
       "0  Baging ldl BUENAVISTA,PATAG.CAGAYAN Buagsong,c...   \n",
       "1  coloma's quzom CASANAS Site1 Masiyan 533A Stol...   \n",
       "2  21-O LumangDaan,Capitangan,Abucay,Bataan .Bign...   \n",
       "3  616Espiritu MARTINVILLE,MANUYO #5paraiso kengi...   \n",
       "4  L042 Summerbreezee1 L2(Balanay analyn Lot760 C...   \n",
       "\n",
       "                                       selleraddress   pick_date  first_date  \\\n",
       "0  Pantranco vill. 417 Warehouse# katipunan 532 (...  2020-03-02  2020-03-05   \n",
       "1  BLDG 210A Moras C42B 2B16,168 church) Complex ...  2020-03-04  2020-03-06   \n",
       "2  #66 150-C, DRIVE, Milagros Joe socorro Metro M...  2020-03-04  2020-03-06   \n",
       "3  999maII 201,26 Villaruel Barretto gen.t number...  2020-03-05  2020-03-07   \n",
       "4  G66MANILA Hiyas Fitness MAYSILO magdiwang Lt.4...  2020-03-04  2020-03-06   \n",
       "\n",
       "  second_date  h_first  h_second  \n",
       "0         NaT        0         0  \n",
       "1  2020-03-10        0         1  \n",
       "2         NaT        0         0  \n",
       "3         NaT        0         0  \n",
       "4         NaT        0         0  "
      ]
     },
     "execution_count": 29,
     "metadata": {},
     "output_type": "execute_result"
    }
   ],
   "source": [
    "df.head()"
   ]
  },
  {
   "cell_type": "raw",
   "metadata": {},
   "source": [
    "#10 把 h_first, h_second 變成天數型態"
   ]
  },
  {
   "cell_type": "code",
   "execution_count": 30,
   "metadata": {
    "ExecuteTime": {
     "end_time": "2021-05-14T06:37:09.033134Z",
     "start_time": "2021-05-14T06:37:09.021199Z"
    }
   },
   "outputs": [
    {
     "data": {
      "text/plain": [
       "datetime.timedelta(days=1)"
      ]
     },
     "execution_count": 30,
     "metadata": {},
     "output_type": "execute_result"
    }
   ],
   "source": [
    "timedelta(days=1)"
   ]
  },
  {
   "cell_type": "code",
   "execution_count": 31,
   "metadata": {
    "ExecuteTime": {
     "end_time": "2021-05-14T06:39:44.043098Z",
     "start_time": "2021-05-14T06:39:36.415456Z"
    }
   },
   "outputs": [],
   "source": [
    "df['h_first'] = df['h_first'].apply(lambda x: timedelta(days=x))"
   ]
  },
  {
   "cell_type": "code",
   "execution_count": 32,
   "metadata": {
    "ExecuteTime": {
     "end_time": "2021-05-14T06:40:04.359416Z",
     "start_time": "2021-05-14T06:39:56.934363Z"
    }
   },
   "outputs": [],
   "source": [
    "df['h_second'] = df['h_second'].apply(lambda x: timedelta(days=x))"
   ]
  },
  {
   "cell_type": "code",
   "execution_count": 33,
   "metadata": {
    "ExecuteTime": {
     "end_time": "2021-05-14T06:40:07.004951Z",
     "start_time": "2021-05-14T06:40:06.981017Z"
    }
   },
   "outputs": [
    {
     "data": {
      "text/html": [
       "<div>\n",
       "<style scoped>\n",
       "    .dataframe tbody tr th:only-of-type {\n",
       "        vertical-align: middle;\n",
       "    }\n",
       "\n",
       "    .dataframe tbody tr th {\n",
       "        vertical-align: top;\n",
       "    }\n",
       "\n",
       "    .dataframe thead th {\n",
       "        text-align: right;\n",
       "    }\n",
       "</style>\n",
       "<table border=\"1\" class=\"dataframe\">\n",
       "  <thead>\n",
       "    <tr style=\"text-align: right;\">\n",
       "      <th></th>\n",
       "      <th>orderid</th>\n",
       "      <th>pick</th>\n",
       "      <th>1st_deliver_attempt</th>\n",
       "      <th>2nd_deliver_attempt</th>\n",
       "      <th>buyeraddress</th>\n",
       "      <th>selleraddress</th>\n",
       "      <th>pick_date</th>\n",
       "      <th>first_date</th>\n",
       "      <th>second_date</th>\n",
       "      <th>h_first</th>\n",
       "      <th>h_second</th>\n",
       "    </tr>\n",
       "  </thead>\n",
       "  <tbody>\n",
       "    <tr>\n",
       "      <th>0</th>\n",
       "      <td>2215676524</td>\n",
       "      <td>1583138397</td>\n",
       "      <td>1.583385e+09</td>\n",
       "      <td>NaN</td>\n",
       "      <td>Baging ldl BUENAVISTA,PATAG.CAGAYAN Buagsong,c...</td>\n",
       "      <td>Pantranco vill. 417 Warehouse# katipunan 532 (...</td>\n",
       "      <td>2020-03-02</td>\n",
       "      <td>2020-03-05</td>\n",
       "      <td>NaT</td>\n",
       "      <td>0 days</td>\n",
       "      <td>0 days</td>\n",
       "    </tr>\n",
       "    <tr>\n",
       "      <th>1</th>\n",
       "      <td>2219624609</td>\n",
       "      <td>1583309968</td>\n",
       "      <td>1.583463e+09</td>\n",
       "      <td>1.583799e+09</td>\n",
       "      <td>coloma's quzom CASANAS Site1 Masiyan 533A Stol...</td>\n",
       "      <td>BLDG 210A Moras C42B 2B16,168 church) Complex ...</td>\n",
       "      <td>2020-03-04</td>\n",
       "      <td>2020-03-06</td>\n",
       "      <td>2020-03-10</td>\n",
       "      <td>0 days</td>\n",
       "      <td>1 days</td>\n",
       "    </tr>\n",
       "    <tr>\n",
       "      <th>2</th>\n",
       "      <td>2220979489</td>\n",
       "      <td>1583306434</td>\n",
       "      <td>1.583460e+09</td>\n",
       "      <td>NaN</td>\n",
       "      <td>21-O LumangDaan,Capitangan,Abucay,Bataan .Bign...</td>\n",
       "      <td>#66 150-C, DRIVE, Milagros Joe socorro Metro M...</td>\n",
       "      <td>2020-03-04</td>\n",
       "      <td>2020-03-06</td>\n",
       "      <td>NaT</td>\n",
       "      <td>0 days</td>\n",
       "      <td>0 days</td>\n",
       "    </tr>\n",
       "    <tr>\n",
       "      <th>3</th>\n",
       "      <td>2221066352</td>\n",
       "      <td>1583419016</td>\n",
       "      <td>1.583556e+09</td>\n",
       "      <td>NaN</td>\n",
       "      <td>616Espiritu MARTINVILLE,MANUYO #5paraiso kengi...</td>\n",
       "      <td>999maII 201,26 Villaruel Barretto gen.t number...</td>\n",
       "      <td>2020-03-05</td>\n",
       "      <td>2020-03-07</td>\n",
       "      <td>NaT</td>\n",
       "      <td>0 days</td>\n",
       "      <td>0 days</td>\n",
       "    </tr>\n",
       "    <tr>\n",
       "      <th>4</th>\n",
       "      <td>2222478803</td>\n",
       "      <td>1583318305</td>\n",
       "      <td>1.583480e+09</td>\n",
       "      <td>NaN</td>\n",
       "      <td>L042 Summerbreezee1 L2(Balanay analyn Lot760 C...</td>\n",
       "      <td>G66MANILA Hiyas Fitness MAYSILO magdiwang Lt.4...</td>\n",
       "      <td>2020-03-04</td>\n",
       "      <td>2020-03-06</td>\n",
       "      <td>NaT</td>\n",
       "      <td>0 days</td>\n",
       "      <td>0 days</td>\n",
       "    </tr>\n",
       "  </tbody>\n",
       "</table>\n",
       "</div>"
      ],
      "text/plain": [
       "      orderid        pick  1st_deliver_attempt  2nd_deliver_attempt  \\\n",
       "0  2215676524  1583138397         1.583385e+09                  NaN   \n",
       "1  2219624609  1583309968         1.583463e+09         1.583799e+09   \n",
       "2  2220979489  1583306434         1.583460e+09                  NaN   \n",
       "3  2221066352  1583419016         1.583556e+09                  NaN   \n",
       "4  2222478803  1583318305         1.583480e+09                  NaN   \n",
       "\n",
       "                                        buyeraddress  \\\n",
       "0  Baging ldl BUENAVISTA,PATAG.CAGAYAN Buagsong,c...   \n",
       "1  coloma's quzom CASANAS Site1 Masiyan 533A Stol...   \n",
       "2  21-O LumangDaan,Capitangan,Abucay,Bataan .Bign...   \n",
       "3  616Espiritu MARTINVILLE,MANUYO #5paraiso kengi...   \n",
       "4  L042 Summerbreezee1 L2(Balanay analyn Lot760 C...   \n",
       "\n",
       "                                       selleraddress   pick_date  first_date  \\\n",
       "0  Pantranco vill. 417 Warehouse# katipunan 532 (...  2020-03-02  2020-03-05   \n",
       "1  BLDG 210A Moras C42B 2B16,168 church) Complex ...  2020-03-04  2020-03-06   \n",
       "2  #66 150-C, DRIVE, Milagros Joe socorro Metro M...  2020-03-04  2020-03-06   \n",
       "3  999maII 201,26 Villaruel Barretto gen.t number...  2020-03-05  2020-03-07   \n",
       "4  G66MANILA Hiyas Fitness MAYSILO magdiwang Lt.4...  2020-03-04  2020-03-06   \n",
       "\n",
       "  second_date h_first h_second  \n",
       "0         NaT  0 days   0 days  \n",
       "1  2020-03-10  0 days   1 days  \n",
       "2         NaT  0 days   0 days  \n",
       "3         NaT  0 days   0 days  \n",
       "4         NaT  0 days   0 days  "
      ]
     },
     "execution_count": 33,
     "metadata": {},
     "output_type": "execute_result"
    }
   ],
   "source": [
    "df.head()"
   ]
  },
  {
   "cell_type": "raw",
   "metadata": {},
   "source": [
    "#11 找出第一次 pick_date 以及第二次 first_date 的運送天數，並扣掉當中的非工作日"
   ]
  },
  {
   "cell_type": "code",
   "execution_count": 34,
   "metadata": {
    "ExecuteTime": {
     "end_time": "2021-05-14T06:47:27.592787Z",
     "start_time": "2021-05-14T06:47:13.763312Z"
    }
   },
   "outputs": [],
   "source": [
    "df['final_first'] = df['first_date'] - df['pick_date'] - df['h_first']\n",
    "df['final_second'] = df['second_date'] - df['first_date'] - df['h_second']"
   ]
  },
  {
   "cell_type": "code",
   "execution_count": 35,
   "metadata": {
    "ExecuteTime": {
     "end_time": "2021-05-14T06:47:27.687566Z",
     "start_time": "2021-05-14T06:47:27.658610Z"
    }
   },
   "outputs": [
    {
     "data": {
      "text/html": [
       "<div>\n",
       "<style scoped>\n",
       "    .dataframe tbody tr th:only-of-type {\n",
       "        vertical-align: middle;\n",
       "    }\n",
       "\n",
       "    .dataframe tbody tr th {\n",
       "        vertical-align: top;\n",
       "    }\n",
       "\n",
       "    .dataframe thead th {\n",
       "        text-align: right;\n",
       "    }\n",
       "</style>\n",
       "<table border=\"1\" class=\"dataframe\">\n",
       "  <thead>\n",
       "    <tr style=\"text-align: right;\">\n",
       "      <th></th>\n",
       "      <th>orderid</th>\n",
       "      <th>pick</th>\n",
       "      <th>1st_deliver_attempt</th>\n",
       "      <th>2nd_deliver_attempt</th>\n",
       "      <th>buyeraddress</th>\n",
       "      <th>selleraddress</th>\n",
       "      <th>pick_date</th>\n",
       "      <th>first_date</th>\n",
       "      <th>second_date</th>\n",
       "      <th>h_first</th>\n",
       "      <th>h_second</th>\n",
       "      <th>final_first</th>\n",
       "      <th>final_second</th>\n",
       "    </tr>\n",
       "  </thead>\n",
       "  <tbody>\n",
       "    <tr>\n",
       "      <th>0</th>\n",
       "      <td>2215676524</td>\n",
       "      <td>1583138397</td>\n",
       "      <td>1.583385e+09</td>\n",
       "      <td>NaN</td>\n",
       "      <td>Baging ldl BUENAVISTA,PATAG.CAGAYAN Buagsong,c...</td>\n",
       "      <td>Pantranco vill. 417 Warehouse# katipunan 532 (...</td>\n",
       "      <td>2020-03-02</td>\n",
       "      <td>2020-03-05</td>\n",
       "      <td>NaT</td>\n",
       "      <td>0 days</td>\n",
       "      <td>0 days</td>\n",
       "      <td>3 days</td>\n",
       "      <td>NaT</td>\n",
       "    </tr>\n",
       "    <tr>\n",
       "      <th>1</th>\n",
       "      <td>2219624609</td>\n",
       "      <td>1583309968</td>\n",
       "      <td>1.583463e+09</td>\n",
       "      <td>1.583799e+09</td>\n",
       "      <td>coloma's quzom CASANAS Site1 Masiyan 533A Stol...</td>\n",
       "      <td>BLDG 210A Moras C42B 2B16,168 church) Complex ...</td>\n",
       "      <td>2020-03-04</td>\n",
       "      <td>2020-03-06</td>\n",
       "      <td>2020-03-10</td>\n",
       "      <td>0 days</td>\n",
       "      <td>1 days</td>\n",
       "      <td>2 days</td>\n",
       "      <td>3 days</td>\n",
       "    </tr>\n",
       "    <tr>\n",
       "      <th>2</th>\n",
       "      <td>2220979489</td>\n",
       "      <td>1583306434</td>\n",
       "      <td>1.583460e+09</td>\n",
       "      <td>NaN</td>\n",
       "      <td>21-O LumangDaan,Capitangan,Abucay,Bataan .Bign...</td>\n",
       "      <td>#66 150-C, DRIVE, Milagros Joe socorro Metro M...</td>\n",
       "      <td>2020-03-04</td>\n",
       "      <td>2020-03-06</td>\n",
       "      <td>NaT</td>\n",
       "      <td>0 days</td>\n",
       "      <td>0 days</td>\n",
       "      <td>2 days</td>\n",
       "      <td>NaT</td>\n",
       "    </tr>\n",
       "    <tr>\n",
       "      <th>3</th>\n",
       "      <td>2221066352</td>\n",
       "      <td>1583419016</td>\n",
       "      <td>1.583556e+09</td>\n",
       "      <td>NaN</td>\n",
       "      <td>616Espiritu MARTINVILLE,MANUYO #5paraiso kengi...</td>\n",
       "      <td>999maII 201,26 Villaruel Barretto gen.t number...</td>\n",
       "      <td>2020-03-05</td>\n",
       "      <td>2020-03-07</td>\n",
       "      <td>NaT</td>\n",
       "      <td>0 days</td>\n",
       "      <td>0 days</td>\n",
       "      <td>2 days</td>\n",
       "      <td>NaT</td>\n",
       "    </tr>\n",
       "    <tr>\n",
       "      <th>4</th>\n",
       "      <td>2222478803</td>\n",
       "      <td>1583318305</td>\n",
       "      <td>1.583480e+09</td>\n",
       "      <td>NaN</td>\n",
       "      <td>L042 Summerbreezee1 L2(Balanay analyn Lot760 C...</td>\n",
       "      <td>G66MANILA Hiyas Fitness MAYSILO magdiwang Lt.4...</td>\n",
       "      <td>2020-03-04</td>\n",
       "      <td>2020-03-06</td>\n",
       "      <td>NaT</td>\n",
       "      <td>0 days</td>\n",
       "      <td>0 days</td>\n",
       "      <td>2 days</td>\n",
       "      <td>NaT</td>\n",
       "    </tr>\n",
       "  </tbody>\n",
       "</table>\n",
       "</div>"
      ],
      "text/plain": [
       "      orderid        pick  1st_deliver_attempt  2nd_deliver_attempt  \\\n",
       "0  2215676524  1583138397         1.583385e+09                  NaN   \n",
       "1  2219624609  1583309968         1.583463e+09         1.583799e+09   \n",
       "2  2220979489  1583306434         1.583460e+09                  NaN   \n",
       "3  2221066352  1583419016         1.583556e+09                  NaN   \n",
       "4  2222478803  1583318305         1.583480e+09                  NaN   \n",
       "\n",
       "                                        buyeraddress  \\\n",
       "0  Baging ldl BUENAVISTA,PATAG.CAGAYAN Buagsong,c...   \n",
       "1  coloma's quzom CASANAS Site1 Masiyan 533A Stol...   \n",
       "2  21-O LumangDaan,Capitangan,Abucay,Bataan .Bign...   \n",
       "3  616Espiritu MARTINVILLE,MANUYO #5paraiso kengi...   \n",
       "4  L042 Summerbreezee1 L2(Balanay analyn Lot760 C...   \n",
       "\n",
       "                                       selleraddress   pick_date  first_date  \\\n",
       "0  Pantranco vill. 417 Warehouse# katipunan 532 (...  2020-03-02  2020-03-05   \n",
       "1  BLDG 210A Moras C42B 2B16,168 church) Complex ...  2020-03-04  2020-03-06   \n",
       "2  #66 150-C, DRIVE, Milagros Joe socorro Metro M...  2020-03-04  2020-03-06   \n",
       "3  999maII 201,26 Villaruel Barretto gen.t number...  2020-03-05  2020-03-07   \n",
       "4  G66MANILA Hiyas Fitness MAYSILO magdiwang Lt.4...  2020-03-04  2020-03-06   \n",
       "\n",
       "  second_date h_first h_second final_first final_second  \n",
       "0         NaT  0 days   0 days      3 days          NaT  \n",
       "1  2020-03-10  0 days   1 days      2 days       3 days  \n",
       "2         NaT  0 days   0 days      2 days          NaT  \n",
       "3         NaT  0 days   0 days      2 days          NaT  \n",
       "4         NaT  0 days   0 days      2 days          NaT  "
      ]
     },
     "execution_count": 35,
     "metadata": {},
     "output_type": "execute_result"
    }
   ],
   "source": [
    "df.head()"
   ]
  },
  {
   "cell_type": "raw",
   "metadata": {},
   "source": [
    "#12 找出買家及賣家居住城市，並存成新欄位 b_add, s_add"
   ]
  },
  {
   "cell_type": "code",
   "execution_count": 37,
   "metadata": {
    "ExecuteTime": {
     "end_time": "2021-05-14T06:48:12.358646Z",
     "start_time": "2021-05-14T06:48:12.337164Z"
    }
   },
   "outputs": [
    {
     "data": {
      "text/plain": [
       "['Baging ldl BUENAVISTA,PATAG.CAGAYAN Buagsong,cordova,cebu Mt.VERNON Buolding, Habagat Lordman NATL Metro Manila',\n",
       " \"coloma's quzom CASANAS Site1 Masiyan 533A Stolberge 10,Baloy eastt away 041banahaw street,Tuguegarao agro, Metro Manila\",\n",
       " '21-O LumangDaan,Capitangan,Abucay,Bataan .Bignay Office,Buhanginan saBrgy186, 34i (bayanihan MALARIA, Alindahaw, Rm401, st.ngry p.pasubas metro manila',\n",
       " '616Espiritu MARTINVILLE,MANUYO #5paraiso kengi 12nn-9pm Brgy,Milagrosa 6Putohan,Tramo #18saint вєrnαвє st,CAA Metro Manila',\n",
       " 'L042 Summerbreezee1 L2(Balanay analyn Lot760 Cluster3-2T seppina UPPERG/L luzon']"
      ]
     },
     "execution_count": 37,
     "metadata": {},
     "output_type": "execute_result"
    }
   ],
   "source": [
    "[i for i in df['buyeraddress'][:5]]"
   ]
  },
  {
   "cell_type": "code",
   "execution_count": 38,
   "metadata": {
    "ExecuteTime": {
     "end_time": "2021-05-14T06:53:47.740850Z",
     "start_time": "2021-05-14T06:53:42.555456Z"
    }
   },
   "outputs": [],
   "source": [
    "df['b_add'] = df['buyeraddress'].apply(lambda x: x.split(' ')[-1])\n",
    "df['s_add'] = df['selleraddress'].apply(lambda x: x.split(' ')[-1])"
   ]
  },
  {
   "cell_type": "code",
   "execution_count": 40,
   "metadata": {
    "ExecuteTime": {
     "end_time": "2021-05-14T06:54:18.969289Z",
     "start_time": "2021-05-14T06:54:18.939371Z"
    }
   },
   "outputs": [
    {
     "data": {
      "text/html": [
       "<div>\n",
       "<style scoped>\n",
       "    .dataframe tbody tr th:only-of-type {\n",
       "        vertical-align: middle;\n",
       "    }\n",
       "\n",
       "    .dataframe tbody tr th {\n",
       "        vertical-align: top;\n",
       "    }\n",
       "\n",
       "    .dataframe thead th {\n",
       "        text-align: right;\n",
       "    }\n",
       "</style>\n",
       "<table border=\"1\" class=\"dataframe\">\n",
       "  <thead>\n",
       "    <tr style=\"text-align: right;\">\n",
       "      <th></th>\n",
       "      <th>orderid</th>\n",
       "      <th>pick</th>\n",
       "      <th>1st_deliver_attempt</th>\n",
       "      <th>2nd_deliver_attempt</th>\n",
       "      <th>buyeraddress</th>\n",
       "      <th>selleraddress</th>\n",
       "      <th>pick_date</th>\n",
       "      <th>first_date</th>\n",
       "      <th>second_date</th>\n",
       "      <th>h_first</th>\n",
       "      <th>h_second</th>\n",
       "      <th>final_first</th>\n",
       "      <th>final_second</th>\n",
       "      <th>b_add</th>\n",
       "      <th>s_add</th>\n",
       "    </tr>\n",
       "  </thead>\n",
       "  <tbody>\n",
       "    <tr>\n",
       "      <th>0</th>\n",
       "      <td>2215676524</td>\n",
       "      <td>1583138397</td>\n",
       "      <td>1.583385e+09</td>\n",
       "      <td>NaN</td>\n",
       "      <td>Baging ldl BUENAVISTA,PATAG.CAGAYAN Buagsong,c...</td>\n",
       "      <td>Pantranco vill. 417 Warehouse# katipunan 532 (...</td>\n",
       "      <td>2020-03-02</td>\n",
       "      <td>2020-03-05</td>\n",
       "      <td>NaT</td>\n",
       "      <td>0 days</td>\n",
       "      <td>0 days</td>\n",
       "      <td>3 days</td>\n",
       "      <td>NaT</td>\n",
       "      <td>Manila</td>\n",
       "      <td>Manila</td>\n",
       "    </tr>\n",
       "    <tr>\n",
       "      <th>1</th>\n",
       "      <td>2219624609</td>\n",
       "      <td>1583309968</td>\n",
       "      <td>1.583463e+09</td>\n",
       "      <td>1.583799e+09</td>\n",
       "      <td>coloma's quzom CASANAS Site1 Masiyan 533A Stol...</td>\n",
       "      <td>BLDG 210A Moras C42B 2B16,168 church) Complex ...</td>\n",
       "      <td>2020-03-04</td>\n",
       "      <td>2020-03-06</td>\n",
       "      <td>2020-03-10</td>\n",
       "      <td>0 days</td>\n",
       "      <td>1 days</td>\n",
       "      <td>2 days</td>\n",
       "      <td>3 days</td>\n",
       "      <td>Manila</td>\n",
       "      <td>Manila</td>\n",
       "    </tr>\n",
       "    <tr>\n",
       "      <th>2</th>\n",
       "      <td>2220979489</td>\n",
       "      <td>1583306434</td>\n",
       "      <td>1.583460e+09</td>\n",
       "      <td>NaN</td>\n",
       "      <td>21-O LumangDaan,Capitangan,Abucay,Bataan .Bign...</td>\n",
       "      <td>#66 150-C, DRIVE, Milagros Joe socorro Metro M...</td>\n",
       "      <td>2020-03-04</td>\n",
       "      <td>2020-03-06</td>\n",
       "      <td>NaT</td>\n",
       "      <td>0 days</td>\n",
       "      <td>0 days</td>\n",
       "      <td>2 days</td>\n",
       "      <td>NaT</td>\n",
       "      <td>manila</td>\n",
       "      <td>Manila</td>\n",
       "    </tr>\n",
       "  </tbody>\n",
       "</table>\n",
       "</div>"
      ],
      "text/plain": [
       "      orderid        pick  1st_deliver_attempt  2nd_deliver_attempt  \\\n",
       "0  2215676524  1583138397         1.583385e+09                  NaN   \n",
       "1  2219624609  1583309968         1.583463e+09         1.583799e+09   \n",
       "2  2220979489  1583306434         1.583460e+09                  NaN   \n",
       "\n",
       "                                        buyeraddress  \\\n",
       "0  Baging ldl BUENAVISTA,PATAG.CAGAYAN Buagsong,c...   \n",
       "1  coloma's quzom CASANAS Site1 Masiyan 533A Stol...   \n",
       "2  21-O LumangDaan,Capitangan,Abucay,Bataan .Bign...   \n",
       "\n",
       "                                       selleraddress   pick_date  first_date  \\\n",
       "0  Pantranco vill. 417 Warehouse# katipunan 532 (...  2020-03-02  2020-03-05   \n",
       "1  BLDG 210A Moras C42B 2B16,168 church) Complex ...  2020-03-04  2020-03-06   \n",
       "2  #66 150-C, DRIVE, Milagros Joe socorro Metro M...  2020-03-04  2020-03-06   \n",
       "\n",
       "  second_date h_first h_second final_first final_second   b_add   s_add  \n",
       "0         NaT  0 days   0 days      3 days          NaT  Manila  Manila  \n",
       "1  2020-03-10  0 days   1 days      2 days       3 days  Manila  Manila  \n",
       "2         NaT  0 days   0 days      2 days          NaT  manila  Manila  "
      ]
     },
     "execution_count": 40,
     "metadata": {},
     "output_type": "execute_result"
    }
   ],
   "source": [
    "df.head(3)"
   ]
  },
  {
   "cell_type": "code",
   "execution_count": null,
   "metadata": {},
   "outputs": [],
   "source": []
  },
  {
   "cell_type": "raw",
   "metadata": {},
   "source": [
    "#13 利用 loc 以及 str.contains 找出 b_add 有 Manila 或是 manila 的資料"
   ]
  },
  {
   "cell_type": "code",
   "execution_count": 41,
   "metadata": {
    "ExecuteTime": {
     "end_time": "2021-05-14T07:01:16.126360Z",
     "start_time": "2021-05-14T07:01:13.981802Z"
    }
   },
   "outputs": [
    {
     "data": {
      "text/html": [
       "<div>\n",
       "<style scoped>\n",
       "    .dataframe tbody tr th:only-of-type {\n",
       "        vertical-align: middle;\n",
       "    }\n",
       "\n",
       "    .dataframe tbody tr th {\n",
       "        vertical-align: top;\n",
       "    }\n",
       "\n",
       "    .dataframe thead th {\n",
       "        text-align: right;\n",
       "    }\n",
       "</style>\n",
       "<table border=\"1\" class=\"dataframe\">\n",
       "  <thead>\n",
       "    <tr style=\"text-align: right;\">\n",
       "      <th></th>\n",
       "      <th>orderid</th>\n",
       "      <th>pick</th>\n",
       "      <th>1st_deliver_attempt</th>\n",
       "      <th>2nd_deliver_attempt</th>\n",
       "      <th>buyeraddress</th>\n",
       "      <th>selleraddress</th>\n",
       "      <th>pick_date</th>\n",
       "      <th>first_date</th>\n",
       "      <th>second_date</th>\n",
       "      <th>h_first</th>\n",
       "      <th>h_second</th>\n",
       "      <th>final_first</th>\n",
       "      <th>final_second</th>\n",
       "      <th>b_add</th>\n",
       "      <th>s_add</th>\n",
       "    </tr>\n",
       "  </thead>\n",
       "  <tbody>\n",
       "    <tr>\n",
       "      <th>0</th>\n",
       "      <td>2215676524</td>\n",
       "      <td>1583138397</td>\n",
       "      <td>1.583385e+09</td>\n",
       "      <td>NaN</td>\n",
       "      <td>Baging ldl BUENAVISTA,PATAG.CAGAYAN Buagsong,c...</td>\n",
       "      <td>Pantranco vill. 417 Warehouse# katipunan 532 (...</td>\n",
       "      <td>2020-03-02</td>\n",
       "      <td>2020-03-05</td>\n",
       "      <td>NaT</td>\n",
       "      <td>0 days</td>\n",
       "      <td>0 days</td>\n",
       "      <td>3 days</td>\n",
       "      <td>NaT</td>\n",
       "      <td>Manila</td>\n",
       "      <td>Manila</td>\n",
       "    </tr>\n",
       "    <tr>\n",
       "      <th>1</th>\n",
       "      <td>2219624609</td>\n",
       "      <td>1583309968</td>\n",
       "      <td>1.583463e+09</td>\n",
       "      <td>1.583799e+09</td>\n",
       "      <td>coloma's quzom CASANAS Site1 Masiyan 533A Stol...</td>\n",
       "      <td>BLDG 210A Moras C42B 2B16,168 church) Complex ...</td>\n",
       "      <td>2020-03-04</td>\n",
       "      <td>2020-03-06</td>\n",
       "      <td>2020-03-10</td>\n",
       "      <td>0 days</td>\n",
       "      <td>1 days</td>\n",
       "      <td>2 days</td>\n",
       "      <td>3 days</td>\n",
       "      <td>Manila</td>\n",
       "      <td>Manila</td>\n",
       "    </tr>\n",
       "    <tr>\n",
       "      <th>2</th>\n",
       "      <td>2220979489</td>\n",
       "      <td>1583306434</td>\n",
       "      <td>1.583460e+09</td>\n",
       "      <td>NaN</td>\n",
       "      <td>21-O LumangDaan,Capitangan,Abucay,Bataan .Bign...</td>\n",
       "      <td>#66 150-C, DRIVE, Milagros Joe socorro Metro M...</td>\n",
       "      <td>2020-03-04</td>\n",
       "      <td>2020-03-06</td>\n",
       "      <td>NaT</td>\n",
       "      <td>0 days</td>\n",
       "      <td>0 days</td>\n",
       "      <td>2 days</td>\n",
       "      <td>NaT</td>\n",
       "      <td>manila</td>\n",
       "      <td>Manila</td>\n",
       "    </tr>\n",
       "    <tr>\n",
       "      <th>3</th>\n",
       "      <td>2221066352</td>\n",
       "      <td>1583419016</td>\n",
       "      <td>1.583556e+09</td>\n",
       "      <td>NaN</td>\n",
       "      <td>616Espiritu MARTINVILLE,MANUYO #5paraiso kengi...</td>\n",
       "      <td>999maII 201,26 Villaruel Barretto gen.t number...</td>\n",
       "      <td>2020-03-05</td>\n",
       "      <td>2020-03-07</td>\n",
       "      <td>NaT</td>\n",
       "      <td>0 days</td>\n",
       "      <td>0 days</td>\n",
       "      <td>2 days</td>\n",
       "      <td>NaT</td>\n",
       "      <td>Manila</td>\n",
       "      <td>Manila</td>\n",
       "    </tr>\n",
       "    <tr>\n",
       "      <th>5</th>\n",
       "      <td>2222597288</td>\n",
       "      <td>1583328320</td>\n",
       "      <td>1.583567e+09</td>\n",
       "      <td>NaN</td>\n",
       "      <td>C-846 park&amp;shop opens Valeda/Sunrise) CompuWar...</td>\n",
       "      <td>33 sta.mesa 1929 hawthorn Metro Manila</td>\n",
       "      <td>2020-03-04</td>\n",
       "      <td>2020-03-07</td>\n",
       "      <td>NaT</td>\n",
       "      <td>0 days</td>\n",
       "      <td>0 days</td>\n",
       "      <td>3 days</td>\n",
       "      <td>NaT</td>\n",
       "      <td>Manila</td>\n",
       "      <td>Manila</td>\n",
       "    </tr>\n",
       "    <tr>\n",
       "      <th>...</th>\n",
       "      <td>...</td>\n",
       "      <td>...</td>\n",
       "      <td>...</td>\n",
       "      <td>...</td>\n",
       "      <td>...</td>\n",
       "      <td>...</td>\n",
       "      <td>...</td>\n",
       "      <td>...</td>\n",
       "      <td>...</td>\n",
       "      <td>...</td>\n",
       "      <td>...</td>\n",
       "      <td>...</td>\n",
       "      <td>...</td>\n",
       "      <td>...</td>\n",
       "      <td>...</td>\n",
       "    </tr>\n",
       "    <tr>\n",
       "      <th>3176305</th>\n",
       "      <td>31502339045455</td>\n",
       "      <td>1585918515</td>\n",
       "      <td>1.586230e+09</td>\n",
       "      <td>NaN</td>\n",
       "      <td>Napolan. Auther 1,digos 3323-24, 1-LL Consorti...</td>\n",
       "      <td>62, 2D (atm 462A Arkong Metro Manila</td>\n",
       "      <td>2020-04-03</td>\n",
       "      <td>2020-04-07</td>\n",
       "      <td>NaT</td>\n",
       "      <td>1 days</td>\n",
       "      <td>0 days</td>\n",
       "      <td>3 days</td>\n",
       "      <td>NaT</td>\n",
       "      <td>Manila</td>\n",
       "      <td>Manila</td>\n",
       "    </tr>\n",
       "    <tr>\n",
       "      <th>3176307</th>\n",
       "      <td>31503788156046</td>\n",
       "      <td>1585886946</td>\n",
       "      <td>1.585974e+09</td>\n",
       "      <td>NaN</td>\n",
       "      <td>sweetberry Ecija(Mercury Cailin matabao,Buenav...</td>\n",
       "      <td>proper. Alavarado Bl-10 #3030 tarpaulin) 1115 ...</td>\n",
       "      <td>2020-04-03</td>\n",
       "      <td>2020-04-04</td>\n",
       "      <td>NaT</td>\n",
       "      <td>0 days</td>\n",
       "      <td>0 days</td>\n",
       "      <td>1 days</td>\n",
       "      <td>NaT</td>\n",
       "      <td>Manila</td>\n",
       "      <td>Manila</td>\n",
       "    </tr>\n",
       "    <tr>\n",
       "      <th>3176308</th>\n",
       "      <td>31504087640510</td>\n",
       "      <td>1585821728</td>\n",
       "      <td>1.585978e+09</td>\n",
       "      <td>NaN</td>\n",
       "      <td>mayapis. edeliza JC274 5542 brgy.Dita, Metro M...</td>\n",
       "      <td>Intimate St) compound. Sekiat 2B8 98-B Mel far...</td>\n",
       "      <td>2020-04-02</td>\n",
       "      <td>2020-04-04</td>\n",
       "      <td>NaT</td>\n",
       "      <td>0 days</td>\n",
       "      <td>0 days</td>\n",
       "      <td>2 days</td>\n",
       "      <td>NaT</td>\n",
       "      <td>Manila</td>\n",
       "      <td>Manila</td>\n",
       "    </tr>\n",
       "    <tr>\n",
       "      <th>3176309</th>\n",
       "      <td>31504147352227</td>\n",
       "      <td>1585895011</td>\n",
       "      <td>1.586179e+09</td>\n",
       "      <td>1.586232e+09</td>\n",
       "      <td>Superdome PORKY K307 Libertad, PCGCC sub.bagui...</td>\n",
       "      <td>13th 3616 Pilipinas, :1v26 1f-5 (Village) bl10...</td>\n",
       "      <td>2020-04-03</td>\n",
       "      <td>2020-04-06</td>\n",
       "      <td>2020-04-07</td>\n",
       "      <td>1 days</td>\n",
       "      <td>0 days</td>\n",
       "      <td>2 days</td>\n",
       "      <td>1 days</td>\n",
       "      <td>Manila</td>\n",
       "      <td>Manila</td>\n",
       "    </tr>\n",
       "    <tr>\n",
       "      <th>3176310</th>\n",
       "      <td>31504462290482</td>\n",
       "      <td>1585826951</td>\n",
       "      <td>1.585965e+09</td>\n",
       "      <td>NaN</td>\n",
       "      <td>Galay's 1republic 333-18 Diliman 74d Malbay fe...</td>\n",
       "      <td>Lane, 379B 1739A Ivc AFPFC Cainta, Waterpark, ...</td>\n",
       "      <td>2020-04-02</td>\n",
       "      <td>2020-04-04</td>\n",
       "      <td>NaT</td>\n",
       "      <td>0 days</td>\n",
       "      <td>0 days</td>\n",
       "      <td>2 days</td>\n",
       "      <td>NaT</td>\n",
       "      <td>Manila</td>\n",
       "      <td>Manila</td>\n",
       "    </tr>\n",
       "  </tbody>\n",
       "</table>\n",
       "<p>1560698 rows × 15 columns</p>\n",
       "</div>"
      ],
      "text/plain": [
       "                orderid        pick  1st_deliver_attempt  2nd_deliver_attempt  \\\n",
       "0            2215676524  1583138397         1.583385e+09                  NaN   \n",
       "1            2219624609  1583309968         1.583463e+09         1.583799e+09   \n",
       "2            2220979489  1583306434         1.583460e+09                  NaN   \n",
       "3            2221066352  1583419016         1.583556e+09                  NaN   \n",
       "5            2222597288  1583328320         1.583567e+09                  NaN   \n",
       "...                 ...         ...                  ...                  ...   \n",
       "3176305  31502339045455  1585918515         1.586230e+09                  NaN   \n",
       "3176307  31503788156046  1585886946         1.585974e+09                  NaN   \n",
       "3176308  31504087640510  1585821728         1.585978e+09                  NaN   \n",
       "3176309  31504147352227  1585895011         1.586179e+09         1.586232e+09   \n",
       "3176310  31504462290482  1585826951         1.585965e+09                  NaN   \n",
       "\n",
       "                                              buyeraddress  \\\n",
       "0        Baging ldl BUENAVISTA,PATAG.CAGAYAN Buagsong,c...   \n",
       "1        coloma's quzom CASANAS Site1 Masiyan 533A Stol...   \n",
       "2        21-O LumangDaan,Capitangan,Abucay,Bataan .Bign...   \n",
       "3        616Espiritu MARTINVILLE,MANUYO #5paraiso kengi...   \n",
       "5        C-846 park&shop opens Valeda/Sunrise) CompuWar...   \n",
       "...                                                    ...   \n",
       "3176305  Napolan. Auther 1,digos 3323-24, 1-LL Consorti...   \n",
       "3176307  sweetberry Ecija(Mercury Cailin matabao,Buenav...   \n",
       "3176308  mayapis. edeliza JC274 5542 brgy.Dita, Metro M...   \n",
       "3176309  Superdome PORKY K307 Libertad, PCGCC sub.bagui...   \n",
       "3176310  Galay's 1republic 333-18 Diliman 74d Malbay fe...   \n",
       "\n",
       "                                             selleraddress   pick_date  \\\n",
       "0        Pantranco vill. 417 Warehouse# katipunan 532 (...  2020-03-02   \n",
       "1        BLDG 210A Moras C42B 2B16,168 church) Complex ...  2020-03-04   \n",
       "2        #66 150-C, DRIVE, Milagros Joe socorro Metro M...  2020-03-04   \n",
       "3        999maII 201,26 Villaruel Barretto gen.t number...  2020-03-05   \n",
       "5                   33 sta.mesa 1929 hawthorn Metro Manila  2020-03-04   \n",
       "...                                                    ...         ...   \n",
       "3176305               62, 2D (atm 462A Arkong Metro Manila  2020-04-03   \n",
       "3176307  proper. Alavarado Bl-10 #3030 tarpaulin) 1115 ...  2020-04-03   \n",
       "3176308  Intimate St) compound. Sekiat 2B8 98-B Mel far...  2020-04-02   \n",
       "3176309  13th 3616 Pilipinas, :1v26 1f-5 (Village) bl10...  2020-04-03   \n",
       "3176310  Lane, 379B 1739A Ivc AFPFC Cainta, Waterpark, ...  2020-04-02   \n",
       "\n",
       "         first_date second_date h_first h_second final_first final_second  \\\n",
       "0        2020-03-05         NaT  0 days   0 days      3 days          NaT   \n",
       "1        2020-03-06  2020-03-10  0 days   1 days      2 days       3 days   \n",
       "2        2020-03-06         NaT  0 days   0 days      2 days          NaT   \n",
       "3        2020-03-07         NaT  0 days   0 days      2 days          NaT   \n",
       "5        2020-03-07         NaT  0 days   0 days      3 days          NaT   \n",
       "...             ...         ...     ...      ...         ...          ...   \n",
       "3176305  2020-04-07         NaT  1 days   0 days      3 days          NaT   \n",
       "3176307  2020-04-04         NaT  0 days   0 days      1 days          NaT   \n",
       "3176308  2020-04-04         NaT  0 days   0 days      2 days          NaT   \n",
       "3176309  2020-04-06  2020-04-07  1 days   0 days      2 days       1 days   \n",
       "3176310  2020-04-04         NaT  0 days   0 days      2 days          NaT   \n",
       "\n",
       "          b_add   s_add  \n",
       "0        Manila  Manila  \n",
       "1        Manila  Manila  \n",
       "2        manila  Manila  \n",
       "3        Manila  Manila  \n",
       "5        Manila  Manila  \n",
       "...         ...     ...  \n",
       "3176305  Manila  Manila  \n",
       "3176307  Manila  Manila  \n",
       "3176308  Manila  Manila  \n",
       "3176309  Manila  Manila  \n",
       "3176310  Manila  Manila  \n",
       "\n",
       "[1560698 rows x 15 columns]"
      ]
     },
     "execution_count": 41,
     "metadata": {},
     "output_type": "execute_result"
    }
   ],
   "source": [
    "df.loc[df['b_add'].str.contains('manila|Manila'), :]"
   ]
  },
  {
   "cell_type": "raw",
   "metadata": {},
   "source": [
    "#14 利用 loc 以及 str.contains 找出 b_add 有 Manila 或是 manila 的資料\n",
    "    把以上查詢到的資料變成同一的名稱 Metro Manila，並存在新的欄位 b_city"
   ]
  },
  {
   "cell_type": "code",
   "execution_count": 50,
   "metadata": {
    "ExecuteTime": {
     "end_time": "2021-05-14T07:14:36.974953Z",
     "start_time": "2021-05-14T07:14:35.268712Z"
    }
   },
   "outputs": [],
   "source": [
    "df.loc[df['b_add'].str.contains('manila|Manila'), 'b_city'] = 'Metro Manila'"
   ]
  },
  {
   "cell_type": "code",
   "execution_count": 43,
   "metadata": {
    "ExecuteTime": {
     "end_time": "2021-05-14T07:05:20.474442Z",
     "start_time": "2021-05-14T07:05:20.443509Z"
    }
   },
   "outputs": [
    {
     "data": {
      "text/html": [
       "<div>\n",
       "<style scoped>\n",
       "    .dataframe tbody tr th:only-of-type {\n",
       "        vertical-align: middle;\n",
       "    }\n",
       "\n",
       "    .dataframe tbody tr th {\n",
       "        vertical-align: top;\n",
       "    }\n",
       "\n",
       "    .dataframe thead th {\n",
       "        text-align: right;\n",
       "    }\n",
       "</style>\n",
       "<table border=\"1\" class=\"dataframe\">\n",
       "  <thead>\n",
       "    <tr style=\"text-align: right;\">\n",
       "      <th></th>\n",
       "      <th>orderid</th>\n",
       "      <th>pick</th>\n",
       "      <th>1st_deliver_attempt</th>\n",
       "      <th>2nd_deliver_attempt</th>\n",
       "      <th>buyeraddress</th>\n",
       "      <th>selleraddress</th>\n",
       "      <th>pick_date</th>\n",
       "      <th>first_date</th>\n",
       "      <th>second_date</th>\n",
       "      <th>h_first</th>\n",
       "      <th>h_second</th>\n",
       "      <th>final_first</th>\n",
       "      <th>final_second</th>\n",
       "      <th>b_add</th>\n",
       "      <th>s_add</th>\n",
       "      <th>b_city</th>\n",
       "    </tr>\n",
       "  </thead>\n",
       "  <tbody>\n",
       "    <tr>\n",
       "      <th>0</th>\n",
       "      <td>2215676524</td>\n",
       "      <td>1583138397</td>\n",
       "      <td>1.583385e+09</td>\n",
       "      <td>NaN</td>\n",
       "      <td>Baging ldl BUENAVISTA,PATAG.CAGAYAN Buagsong,c...</td>\n",
       "      <td>Pantranco vill. 417 Warehouse# katipunan 532 (...</td>\n",
       "      <td>2020-03-02</td>\n",
       "      <td>2020-03-05</td>\n",
       "      <td>NaT</td>\n",
       "      <td>0 days</td>\n",
       "      <td>0 days</td>\n",
       "      <td>3 days</td>\n",
       "      <td>NaT</td>\n",
       "      <td>Manila</td>\n",
       "      <td>Manila</td>\n",
       "      <td>Metro Manila</td>\n",
       "    </tr>\n",
       "  </tbody>\n",
       "</table>\n",
       "</div>"
      ],
      "text/plain": [
       "      orderid        pick  1st_deliver_attempt  2nd_deliver_attempt  \\\n",
       "0  2215676524  1583138397         1.583385e+09                  NaN   \n",
       "\n",
       "                                        buyeraddress  \\\n",
       "0  Baging ldl BUENAVISTA,PATAG.CAGAYAN Buagsong,c...   \n",
       "\n",
       "                                       selleraddress   pick_date  first_date  \\\n",
       "0  Pantranco vill. 417 Warehouse# katipunan 532 (...  2020-03-02  2020-03-05   \n",
       "\n",
       "  second_date h_first h_second final_first final_second   b_add   s_add  \\\n",
       "0         NaT  0 days   0 days      3 days          NaT  Manila  Manila   \n",
       "\n",
       "         b_city  \n",
       "0  Metro Manila  "
      ]
     },
     "execution_count": 43,
     "metadata": {},
     "output_type": "execute_result"
    }
   ],
   "source": [
    "df.head(1)"
   ]
  },
  {
   "cell_type": "raw",
   "metadata": {},
   "source": [
    "#15 針對其他三個城市也做跟第14題一樣的動作"
   ]
  },
  {
   "cell_type": "code",
   "execution_count": 51,
   "metadata": {
    "ExecuteTime": {
     "end_time": "2021-05-14T07:14:42.500137Z",
     "start_time": "2021-05-14T07:14:37.998301Z"
    }
   },
   "outputs": [],
   "source": [
    "df.loc[df['b_add'].str.contains('luzon|Luzon'), 'b_city'] = 'Luzon'\n",
    "df.loc[df['b_add'].str.contains('visayas|Visayas'), 'b_city'] = 'Visayas'\n",
    "df.loc[df['b_add'].str.contains('mindanao|Mindanao'), 'b_city'] = 'Mindanao'"
   ]
  },
  {
   "cell_type": "code",
   "execution_count": null,
   "metadata": {},
   "outputs": [],
   "source": []
  },
  {
   "cell_type": "raw",
   "metadata": {},
   "source": [
    "#16 針對賣家也做跟第14,15題一樣的動作，並把結果存在 s_city"
   ]
  },
  {
   "cell_type": "code",
   "execution_count": 49,
   "metadata": {
    "ExecuteTime": {
     "end_time": "2021-05-14T07:14:33.888939Z",
     "start_time": "2021-05-14T07:14:26.679391Z"
    }
   },
   "outputs": [],
   "source": [
    "df.loc[df['s_add'].str.contains('manila|Manila'), 's_city'] = 'Metro Manila'\n",
    "df.loc[df['s_add'].str.contains('luzon|Luzon'), 's_city'] = 'Luzon'\n",
    "df.loc[df['s_add'].str.contains('visayas|Visayas'), 's_city'] = 'Visayas'\n",
    "df.loc[df['s_add'].str.contains('mindanao|Mindanao'), 's_city'] = 'Mindanao'"
   ]
  },
  {
   "cell_type": "code",
   "execution_count": null,
   "metadata": {},
   "outputs": [],
   "source": []
  },
  {
   "cell_type": "raw",
   "metadata": {},
   "source": [
    "|                |  Metro Manila  |      Luzon     |     Visayas    |    Mindanao    |\n",
    "| -------------- | -------------- | -------------- | -------------- | -------------- |\n",
    "|  Metro Manila  | 3 working days | 5 working days | 7 working days | 7 working days |\n",
    "|      Luzon     | 5 working days | 5 working days | 7 working days | 7 working days |\n",
    "|     Visayas    | 7 working days | 7 working days | 7 working days | 7 working days |\n",
    "|    Mindanao    | 7 working days | 7 working days | 7 working days | 7 working days |"
   ]
  },
  {
   "cell_type": "raw",
   "metadata": {},
   "source": [
    "#17 新增一個欄位 sla\n",
    "    並讓他等於：7天"
   ]
  },
  {
   "cell_type": "code",
   "execution_count": 46,
   "metadata": {
    "ExecuteTime": {
     "end_time": "2021-05-14T07:09:21.178018Z",
     "start_time": "2021-05-14T07:09:21.148002Z"
    }
   },
   "outputs": [],
   "source": [
    "df['sla'] = timedelta(days=7)"
   ]
  },
  {
   "cell_type": "code",
   "execution_count": 47,
   "metadata": {
    "ExecuteTime": {
     "end_time": "2021-05-14T07:13:19.029491Z",
     "start_time": "2021-05-14T07:13:19.004285Z"
    }
   },
   "outputs": [
    {
     "data": {
      "text/html": [
       "<div>\n",
       "<style scoped>\n",
       "    .dataframe tbody tr th:only-of-type {\n",
       "        vertical-align: middle;\n",
       "    }\n",
       "\n",
       "    .dataframe tbody tr th {\n",
       "        vertical-align: top;\n",
       "    }\n",
       "\n",
       "    .dataframe thead th {\n",
       "        text-align: right;\n",
       "    }\n",
       "</style>\n",
       "<table border=\"1\" class=\"dataframe\">\n",
       "  <thead>\n",
       "    <tr style=\"text-align: right;\">\n",
       "      <th></th>\n",
       "      <th>orderid</th>\n",
       "      <th>pick</th>\n",
       "      <th>1st_deliver_attempt</th>\n",
       "      <th>2nd_deliver_attempt</th>\n",
       "      <th>buyeraddress</th>\n",
       "      <th>selleraddress</th>\n",
       "      <th>pick_date</th>\n",
       "      <th>first_date</th>\n",
       "      <th>second_date</th>\n",
       "      <th>h_first</th>\n",
       "      <th>h_second</th>\n",
       "      <th>final_first</th>\n",
       "      <th>final_second</th>\n",
       "      <th>b_add</th>\n",
       "      <th>s_add</th>\n",
       "      <th>b_city</th>\n",
       "      <th>sla</th>\n",
       "    </tr>\n",
       "  </thead>\n",
       "  <tbody>\n",
       "    <tr>\n",
       "      <th>0</th>\n",
       "      <td>2215676524</td>\n",
       "      <td>1583138397</td>\n",
       "      <td>1.583385e+09</td>\n",
       "      <td>NaN</td>\n",
       "      <td>Baging ldl BUENAVISTA,PATAG.CAGAYAN Buagsong,c...</td>\n",
       "      <td>Pantranco vill. 417 Warehouse# katipunan 532 (...</td>\n",
       "      <td>2020-03-02</td>\n",
       "      <td>2020-03-05</td>\n",
       "      <td>NaT</td>\n",
       "      <td>0 days</td>\n",
       "      <td>0 days</td>\n",
       "      <td>3 days</td>\n",
       "      <td>NaT</td>\n",
       "      <td>Manila</td>\n",
       "      <td>Manila</td>\n",
       "      <td>Metro Manila</td>\n",
       "      <td>7 days</td>\n",
       "    </tr>\n",
       "    <tr>\n",
       "      <th>1</th>\n",
       "      <td>2219624609</td>\n",
       "      <td>1583309968</td>\n",
       "      <td>1.583463e+09</td>\n",
       "      <td>1.583799e+09</td>\n",
       "      <td>coloma's quzom CASANAS Site1 Masiyan 533A Stol...</td>\n",
       "      <td>BLDG 210A Moras C42B 2B16,168 church) Complex ...</td>\n",
       "      <td>2020-03-04</td>\n",
       "      <td>2020-03-06</td>\n",
       "      <td>2020-03-10</td>\n",
       "      <td>0 days</td>\n",
       "      <td>1 days</td>\n",
       "      <td>2 days</td>\n",
       "      <td>3 days</td>\n",
       "      <td>Manila</td>\n",
       "      <td>Manila</td>\n",
       "      <td>Metro Manila</td>\n",
       "      <td>7 days</td>\n",
       "    </tr>\n",
       "    <tr>\n",
       "      <th>2</th>\n",
       "      <td>2220979489</td>\n",
       "      <td>1583306434</td>\n",
       "      <td>1.583460e+09</td>\n",
       "      <td>NaN</td>\n",
       "      <td>21-O LumangDaan,Capitangan,Abucay,Bataan .Bign...</td>\n",
       "      <td>#66 150-C, DRIVE, Milagros Joe socorro Metro M...</td>\n",
       "      <td>2020-03-04</td>\n",
       "      <td>2020-03-06</td>\n",
       "      <td>NaT</td>\n",
       "      <td>0 days</td>\n",
       "      <td>0 days</td>\n",
       "      <td>2 days</td>\n",
       "      <td>NaT</td>\n",
       "      <td>manila</td>\n",
       "      <td>Manila</td>\n",
       "      <td>Metro Manila</td>\n",
       "      <td>7 days</td>\n",
       "    </tr>\n",
       "  </tbody>\n",
       "</table>\n",
       "</div>"
      ],
      "text/plain": [
       "      orderid        pick  1st_deliver_attempt  2nd_deliver_attempt  \\\n",
       "0  2215676524  1583138397         1.583385e+09                  NaN   \n",
       "1  2219624609  1583309968         1.583463e+09         1.583799e+09   \n",
       "2  2220979489  1583306434         1.583460e+09                  NaN   \n",
       "\n",
       "                                        buyeraddress  \\\n",
       "0  Baging ldl BUENAVISTA,PATAG.CAGAYAN Buagsong,c...   \n",
       "1  coloma's quzom CASANAS Site1 Masiyan 533A Stol...   \n",
       "2  21-O LumangDaan,Capitangan,Abucay,Bataan .Bign...   \n",
       "\n",
       "                                       selleraddress   pick_date  first_date  \\\n",
       "0  Pantranco vill. 417 Warehouse# katipunan 532 (...  2020-03-02  2020-03-05   \n",
       "1  BLDG 210A Moras C42B 2B16,168 church) Complex ...  2020-03-04  2020-03-06   \n",
       "2  #66 150-C, DRIVE, Milagros Joe socorro Metro M...  2020-03-04  2020-03-06   \n",
       "\n",
       "  second_date h_first h_second final_first final_second   b_add   s_add  \\\n",
       "0         NaT  0 days   0 days      3 days          NaT  Manila  Manila   \n",
       "1  2020-03-10  0 days   1 days      2 days       3 days  Manila  Manila   \n",
       "2         NaT  0 days   0 days      2 days          NaT  manila  Manila   \n",
       "\n",
       "         b_city    sla  \n",
       "0  Metro Manila 7 days  \n",
       "1  Metro Manila 7 days  \n",
       "2  Metro Manila 7 days  "
      ]
     },
     "execution_count": 47,
     "metadata": {},
     "output_type": "execute_result"
    }
   ],
   "source": [
    "df.head(3)"
   ]
  },
  {
   "cell_type": "raw",
   "metadata": {},
   "source": [
    "#18 利用 loc 找出 b_city = 'Metro Manila' & s_city = 'Metro Manila"
   ]
  },
  {
   "cell_type": "code",
   "execution_count": 52,
   "metadata": {
    "ExecuteTime": {
     "end_time": "2021-05-14T07:14:51.060433Z",
     "start_time": "2021-05-14T07:14:50.391532Z"
    }
   },
   "outputs": [
    {
     "data": {
      "text/html": [
       "<div>\n",
       "<style scoped>\n",
       "    .dataframe tbody tr th:only-of-type {\n",
       "        vertical-align: middle;\n",
       "    }\n",
       "\n",
       "    .dataframe tbody tr th {\n",
       "        vertical-align: top;\n",
       "    }\n",
       "\n",
       "    .dataframe thead th {\n",
       "        text-align: right;\n",
       "    }\n",
       "</style>\n",
       "<table border=\"1\" class=\"dataframe\">\n",
       "  <thead>\n",
       "    <tr style=\"text-align: right;\">\n",
       "      <th></th>\n",
       "      <th>orderid</th>\n",
       "      <th>pick</th>\n",
       "      <th>1st_deliver_attempt</th>\n",
       "      <th>2nd_deliver_attempt</th>\n",
       "      <th>buyeraddress</th>\n",
       "      <th>selleraddress</th>\n",
       "      <th>pick_date</th>\n",
       "      <th>first_date</th>\n",
       "      <th>second_date</th>\n",
       "      <th>h_first</th>\n",
       "      <th>h_second</th>\n",
       "      <th>final_first</th>\n",
       "      <th>final_second</th>\n",
       "      <th>b_add</th>\n",
       "      <th>s_add</th>\n",
       "      <th>b_city</th>\n",
       "      <th>sla</th>\n",
       "      <th>s_city</th>\n",
       "    </tr>\n",
       "  </thead>\n",
       "  <tbody>\n",
       "    <tr>\n",
       "      <th>0</th>\n",
       "      <td>2215676524</td>\n",
       "      <td>1583138397</td>\n",
       "      <td>1.583385e+09</td>\n",
       "      <td>NaN</td>\n",
       "      <td>Baging ldl BUENAVISTA,PATAG.CAGAYAN Buagsong,c...</td>\n",
       "      <td>Pantranco vill. 417 Warehouse# katipunan 532 (...</td>\n",
       "      <td>2020-03-02</td>\n",
       "      <td>2020-03-05</td>\n",
       "      <td>NaT</td>\n",
       "      <td>0 days</td>\n",
       "      <td>0 days</td>\n",
       "      <td>3 days</td>\n",
       "      <td>NaT</td>\n",
       "      <td>Manila</td>\n",
       "      <td>Manila</td>\n",
       "      <td>Metro Manila</td>\n",
       "      <td>7 days</td>\n",
       "      <td>Metro Manila</td>\n",
       "    </tr>\n",
       "    <tr>\n",
       "      <th>1</th>\n",
       "      <td>2219624609</td>\n",
       "      <td>1583309968</td>\n",
       "      <td>1.583463e+09</td>\n",
       "      <td>1.583799e+09</td>\n",
       "      <td>coloma's quzom CASANAS Site1 Masiyan 533A Stol...</td>\n",
       "      <td>BLDG 210A Moras C42B 2B16,168 church) Complex ...</td>\n",
       "      <td>2020-03-04</td>\n",
       "      <td>2020-03-06</td>\n",
       "      <td>2020-03-10</td>\n",
       "      <td>0 days</td>\n",
       "      <td>1 days</td>\n",
       "      <td>2 days</td>\n",
       "      <td>3 days</td>\n",
       "      <td>Manila</td>\n",
       "      <td>Manila</td>\n",
       "      <td>Metro Manila</td>\n",
       "      <td>7 days</td>\n",
       "      <td>Metro Manila</td>\n",
       "    </tr>\n",
       "    <tr>\n",
       "      <th>2</th>\n",
       "      <td>2220979489</td>\n",
       "      <td>1583306434</td>\n",
       "      <td>1.583460e+09</td>\n",
       "      <td>NaN</td>\n",
       "      <td>21-O LumangDaan,Capitangan,Abucay,Bataan .Bign...</td>\n",
       "      <td>#66 150-C, DRIVE, Milagros Joe socorro Metro M...</td>\n",
       "      <td>2020-03-04</td>\n",
       "      <td>2020-03-06</td>\n",
       "      <td>NaT</td>\n",
       "      <td>0 days</td>\n",
       "      <td>0 days</td>\n",
       "      <td>2 days</td>\n",
       "      <td>NaT</td>\n",
       "      <td>manila</td>\n",
       "      <td>Manila</td>\n",
       "      <td>Metro Manila</td>\n",
       "      <td>7 days</td>\n",
       "      <td>Metro Manila</td>\n",
       "    </tr>\n",
       "    <tr>\n",
       "      <th>3</th>\n",
       "      <td>2221066352</td>\n",
       "      <td>1583419016</td>\n",
       "      <td>1.583556e+09</td>\n",
       "      <td>NaN</td>\n",
       "      <td>616Espiritu MARTINVILLE,MANUYO #5paraiso kengi...</td>\n",
       "      <td>999maII 201,26 Villaruel Barretto gen.t number...</td>\n",
       "      <td>2020-03-05</td>\n",
       "      <td>2020-03-07</td>\n",
       "      <td>NaT</td>\n",
       "      <td>0 days</td>\n",
       "      <td>0 days</td>\n",
       "      <td>2 days</td>\n",
       "      <td>NaT</td>\n",
       "      <td>Manila</td>\n",
       "      <td>Manila</td>\n",
       "      <td>Metro Manila</td>\n",
       "      <td>7 days</td>\n",
       "      <td>Metro Manila</td>\n",
       "    </tr>\n",
       "    <tr>\n",
       "      <th>5</th>\n",
       "      <td>2222597288</td>\n",
       "      <td>1583328320</td>\n",
       "      <td>1.583567e+09</td>\n",
       "      <td>NaN</td>\n",
       "      <td>C-846 park&amp;shop opens Valeda/Sunrise) CompuWar...</td>\n",
       "      <td>33 sta.mesa 1929 hawthorn Metro Manila</td>\n",
       "      <td>2020-03-04</td>\n",
       "      <td>2020-03-07</td>\n",
       "      <td>NaT</td>\n",
       "      <td>0 days</td>\n",
       "      <td>0 days</td>\n",
       "      <td>3 days</td>\n",
       "      <td>NaT</td>\n",
       "      <td>Manila</td>\n",
       "      <td>Manila</td>\n",
       "      <td>Metro Manila</td>\n",
       "      <td>7 days</td>\n",
       "      <td>Metro Manila</td>\n",
       "    </tr>\n",
       "    <tr>\n",
       "      <th>...</th>\n",
       "      <td>...</td>\n",
       "      <td>...</td>\n",
       "      <td>...</td>\n",
       "      <td>...</td>\n",
       "      <td>...</td>\n",
       "      <td>...</td>\n",
       "      <td>...</td>\n",
       "      <td>...</td>\n",
       "      <td>...</td>\n",
       "      <td>...</td>\n",
       "      <td>...</td>\n",
       "      <td>...</td>\n",
       "      <td>...</td>\n",
       "      <td>...</td>\n",
       "      <td>...</td>\n",
       "      <td>...</td>\n",
       "      <td>...</td>\n",
       "      <td>...</td>\n",
       "    </tr>\n",
       "    <tr>\n",
       "      <th>3176305</th>\n",
       "      <td>31502339045455</td>\n",
       "      <td>1585918515</td>\n",
       "      <td>1.586230e+09</td>\n",
       "      <td>NaN</td>\n",
       "      <td>Napolan. Auther 1,digos 3323-24, 1-LL Consorti...</td>\n",
       "      <td>62, 2D (atm 462A Arkong Metro Manila</td>\n",
       "      <td>2020-04-03</td>\n",
       "      <td>2020-04-07</td>\n",
       "      <td>NaT</td>\n",
       "      <td>1 days</td>\n",
       "      <td>0 days</td>\n",
       "      <td>3 days</td>\n",
       "      <td>NaT</td>\n",
       "      <td>Manila</td>\n",
       "      <td>Manila</td>\n",
       "      <td>Metro Manila</td>\n",
       "      <td>7 days</td>\n",
       "      <td>Metro Manila</td>\n",
       "    </tr>\n",
       "    <tr>\n",
       "      <th>3176307</th>\n",
       "      <td>31503788156046</td>\n",
       "      <td>1585886946</td>\n",
       "      <td>1.585974e+09</td>\n",
       "      <td>NaN</td>\n",
       "      <td>sweetberry Ecija(Mercury Cailin matabao,Buenav...</td>\n",
       "      <td>proper. Alavarado Bl-10 #3030 tarpaulin) 1115 ...</td>\n",
       "      <td>2020-04-03</td>\n",
       "      <td>2020-04-04</td>\n",
       "      <td>NaT</td>\n",
       "      <td>0 days</td>\n",
       "      <td>0 days</td>\n",
       "      <td>1 days</td>\n",
       "      <td>NaT</td>\n",
       "      <td>Manila</td>\n",
       "      <td>Manila</td>\n",
       "      <td>Metro Manila</td>\n",
       "      <td>7 days</td>\n",
       "      <td>Metro Manila</td>\n",
       "    </tr>\n",
       "    <tr>\n",
       "      <th>3176308</th>\n",
       "      <td>31504087640510</td>\n",
       "      <td>1585821728</td>\n",
       "      <td>1.585978e+09</td>\n",
       "      <td>NaN</td>\n",
       "      <td>mayapis. edeliza JC274 5542 brgy.Dita, Metro M...</td>\n",
       "      <td>Intimate St) compound. Sekiat 2B8 98-B Mel far...</td>\n",
       "      <td>2020-04-02</td>\n",
       "      <td>2020-04-04</td>\n",
       "      <td>NaT</td>\n",
       "      <td>0 days</td>\n",
       "      <td>0 days</td>\n",
       "      <td>2 days</td>\n",
       "      <td>NaT</td>\n",
       "      <td>Manila</td>\n",
       "      <td>Manila</td>\n",
       "      <td>Metro Manila</td>\n",
       "      <td>7 days</td>\n",
       "      <td>Metro Manila</td>\n",
       "    </tr>\n",
       "    <tr>\n",
       "      <th>3176309</th>\n",
       "      <td>31504147352227</td>\n",
       "      <td>1585895011</td>\n",
       "      <td>1.586179e+09</td>\n",
       "      <td>1.586232e+09</td>\n",
       "      <td>Superdome PORKY K307 Libertad, PCGCC sub.bagui...</td>\n",
       "      <td>13th 3616 Pilipinas, :1v26 1f-5 (Village) bl10...</td>\n",
       "      <td>2020-04-03</td>\n",
       "      <td>2020-04-06</td>\n",
       "      <td>2020-04-07</td>\n",
       "      <td>1 days</td>\n",
       "      <td>0 days</td>\n",
       "      <td>2 days</td>\n",
       "      <td>1 days</td>\n",
       "      <td>Manila</td>\n",
       "      <td>Manila</td>\n",
       "      <td>Metro Manila</td>\n",
       "      <td>7 days</td>\n",
       "      <td>Metro Manila</td>\n",
       "    </tr>\n",
       "    <tr>\n",
       "      <th>3176310</th>\n",
       "      <td>31504462290482</td>\n",
       "      <td>1585826951</td>\n",
       "      <td>1.585965e+09</td>\n",
       "      <td>NaN</td>\n",
       "      <td>Galay's 1republic 333-18 Diliman 74d Malbay fe...</td>\n",
       "      <td>Lane, 379B 1739A Ivc AFPFC Cainta, Waterpark, ...</td>\n",
       "      <td>2020-04-02</td>\n",
       "      <td>2020-04-04</td>\n",
       "      <td>NaT</td>\n",
       "      <td>0 days</td>\n",
       "      <td>0 days</td>\n",
       "      <td>2 days</td>\n",
       "      <td>NaT</td>\n",
       "      <td>Manila</td>\n",
       "      <td>Manila</td>\n",
       "      <td>Metro Manila</td>\n",
       "      <td>7 days</td>\n",
       "      <td>Metro Manila</td>\n",
       "    </tr>\n",
       "  </tbody>\n",
       "</table>\n",
       "<p>1560698 rows × 18 columns</p>\n",
       "</div>"
      ],
      "text/plain": [
       "                orderid        pick  1st_deliver_attempt  2nd_deliver_attempt  \\\n",
       "0            2215676524  1583138397         1.583385e+09                  NaN   \n",
       "1            2219624609  1583309968         1.583463e+09         1.583799e+09   \n",
       "2            2220979489  1583306434         1.583460e+09                  NaN   \n",
       "3            2221066352  1583419016         1.583556e+09                  NaN   \n",
       "5            2222597288  1583328320         1.583567e+09                  NaN   \n",
       "...                 ...         ...                  ...                  ...   \n",
       "3176305  31502339045455  1585918515         1.586230e+09                  NaN   \n",
       "3176307  31503788156046  1585886946         1.585974e+09                  NaN   \n",
       "3176308  31504087640510  1585821728         1.585978e+09                  NaN   \n",
       "3176309  31504147352227  1585895011         1.586179e+09         1.586232e+09   \n",
       "3176310  31504462290482  1585826951         1.585965e+09                  NaN   \n",
       "\n",
       "                                              buyeraddress  \\\n",
       "0        Baging ldl BUENAVISTA,PATAG.CAGAYAN Buagsong,c...   \n",
       "1        coloma's quzom CASANAS Site1 Masiyan 533A Stol...   \n",
       "2        21-O LumangDaan,Capitangan,Abucay,Bataan .Bign...   \n",
       "3        616Espiritu MARTINVILLE,MANUYO #5paraiso kengi...   \n",
       "5        C-846 park&shop opens Valeda/Sunrise) CompuWar...   \n",
       "...                                                    ...   \n",
       "3176305  Napolan. Auther 1,digos 3323-24, 1-LL Consorti...   \n",
       "3176307  sweetberry Ecija(Mercury Cailin matabao,Buenav...   \n",
       "3176308  mayapis. edeliza JC274 5542 brgy.Dita, Metro M...   \n",
       "3176309  Superdome PORKY K307 Libertad, PCGCC sub.bagui...   \n",
       "3176310  Galay's 1republic 333-18 Diliman 74d Malbay fe...   \n",
       "\n",
       "                                             selleraddress   pick_date  \\\n",
       "0        Pantranco vill. 417 Warehouse# katipunan 532 (...  2020-03-02   \n",
       "1        BLDG 210A Moras C42B 2B16,168 church) Complex ...  2020-03-04   \n",
       "2        #66 150-C, DRIVE, Milagros Joe socorro Metro M...  2020-03-04   \n",
       "3        999maII 201,26 Villaruel Barretto gen.t number...  2020-03-05   \n",
       "5                   33 sta.mesa 1929 hawthorn Metro Manila  2020-03-04   \n",
       "...                                                    ...         ...   \n",
       "3176305               62, 2D (atm 462A Arkong Metro Manila  2020-04-03   \n",
       "3176307  proper. Alavarado Bl-10 #3030 tarpaulin) 1115 ...  2020-04-03   \n",
       "3176308  Intimate St) compound. Sekiat 2B8 98-B Mel far...  2020-04-02   \n",
       "3176309  13th 3616 Pilipinas, :1v26 1f-5 (Village) bl10...  2020-04-03   \n",
       "3176310  Lane, 379B 1739A Ivc AFPFC Cainta, Waterpark, ...  2020-04-02   \n",
       "\n",
       "         first_date second_date h_first h_second final_first final_second  \\\n",
       "0        2020-03-05         NaT  0 days   0 days      3 days          NaT   \n",
       "1        2020-03-06  2020-03-10  0 days   1 days      2 days       3 days   \n",
       "2        2020-03-06         NaT  0 days   0 days      2 days          NaT   \n",
       "3        2020-03-07         NaT  0 days   0 days      2 days          NaT   \n",
       "5        2020-03-07         NaT  0 days   0 days      3 days          NaT   \n",
       "...             ...         ...     ...      ...         ...          ...   \n",
       "3176305  2020-04-07         NaT  1 days   0 days      3 days          NaT   \n",
       "3176307  2020-04-04         NaT  0 days   0 days      1 days          NaT   \n",
       "3176308  2020-04-04         NaT  0 days   0 days      2 days          NaT   \n",
       "3176309  2020-04-06  2020-04-07  1 days   0 days      2 days       1 days   \n",
       "3176310  2020-04-04         NaT  0 days   0 days      2 days          NaT   \n",
       "\n",
       "          b_add   s_add        b_city    sla        s_city  \n",
       "0        Manila  Manila  Metro Manila 7 days  Metro Manila  \n",
       "1        Manila  Manila  Metro Manila 7 days  Metro Manila  \n",
       "2        manila  Manila  Metro Manila 7 days  Metro Manila  \n",
       "3        Manila  Manila  Metro Manila 7 days  Metro Manila  \n",
       "5        Manila  Manila  Metro Manila 7 days  Metro Manila  \n",
       "...         ...     ...           ...    ...           ...  \n",
       "3176305  Manila  Manila  Metro Manila 7 days  Metro Manila  \n",
       "3176307  Manila  Manila  Metro Manila 7 days  Metro Manila  \n",
       "3176308  Manila  Manila  Metro Manila 7 days  Metro Manila  \n",
       "3176309  Manila  Manila  Metro Manila 7 days  Metro Manila  \n",
       "3176310  Manila  Manila  Metro Manila 7 days  Metro Manila  \n",
       "\n",
       "[1560698 rows x 18 columns]"
      ]
     },
     "execution_count": 52,
     "metadata": {},
     "output_type": "execute_result"
    }
   ],
   "source": [
    "df.loc[(df['b_city'] == 'Metro Manila') & (df['s_city'] == 'Metro Manila'), :]"
   ]
  },
  {
   "cell_type": "raw",
   "metadata": {},
   "source": [
    "#19 利用 loc 找出 b_city = 'Metro Manila' & s_city = 'Metro Manila\n",
    "    把以上查詢到的資料存成 3天，並覆蓋 sla"
   ]
  },
  {
   "cell_type": "code",
   "execution_count": 54,
   "metadata": {
    "ExecuteTime": {
     "end_time": "2021-05-14T07:16:22.693343Z",
     "start_time": "2021-05-14T07:16:22.299584Z"
    }
   },
   "outputs": [],
   "source": [
    "df.loc[(df['b_city'] == 'Metro Manila') & (df['s_city'] == 'Metro Manila'), 'sla'] = timedelta(days=3)"
   ]
  },
  {
   "cell_type": "code",
   "execution_count": null,
   "metadata": {},
   "outputs": [],
   "source": []
  },
  {
   "cell_type": "raw",
   "metadata": {},
   "source": [
    "#20 找出 sla 等於5天的城市，並且覆蓋sla"
   ]
  },
  {
   "cell_type": "raw",
   "metadata": {},
   "source": [
    "|                |  Metro Manila  |      Luzon     |     Visayas    |    Mindanao    |\n",
    "| -------------- | -------------- | -------------- | -------------- | -------------- |\n",
    "|  Metro Manila  | 3 working days | 5 working days | 7 working days | 7 working days |\n",
    "|      Luzon     | 5 working days | 5 working days | 7 working days | 7 working days |\n",
    "|     Visayas    | 7 working days | 7 working days | 7 working days | 7 working days |\n",
    "|    Mindanao    | 7 working days | 7 working days | 7 working days | 7 working days |"
   ]
  },
  {
   "cell_type": "code",
   "execution_count": 56,
   "metadata": {
    "ExecuteTime": {
     "end_time": "2021-05-14T07:19:22.244947Z",
     "start_time": "2021-05-14T07:19:21.243525Z"
    }
   },
   "outputs": [],
   "source": [
    "df.loc[(df['b_city'] == 'Luzon') & (df['s_city'] == 'Metro Manila'), 'sla'] = timedelta(days=5)\n",
    "df.loc[(df['b_city'] == 'Luzon') & (df['s_city'] == 'Luzon'), 'sla'] = timedelta(days=5)\n",
    "df.loc[(df['b_city'] == 'Metro Manila') & (df['s_city'] == 'Lzaon'), 'sla'] = timedelta(days=5)"
   ]
  },
  {
   "cell_type": "code",
   "execution_count": 57,
   "metadata": {
    "ExecuteTime": {
     "end_time": "2021-05-14T07:23:04.725056Z",
     "start_time": "2021-05-14T07:23:04.703181Z"
    },
    "scrolled": true
   },
   "outputs": [
    {
     "data": {
      "text/html": [
       "<div>\n",
       "<style scoped>\n",
       "    .dataframe tbody tr th:only-of-type {\n",
       "        vertical-align: middle;\n",
       "    }\n",
       "\n",
       "    .dataframe tbody tr th {\n",
       "        vertical-align: top;\n",
       "    }\n",
       "\n",
       "    .dataframe thead th {\n",
       "        text-align: right;\n",
       "    }\n",
       "</style>\n",
       "<table border=\"1\" class=\"dataframe\">\n",
       "  <thead>\n",
       "    <tr style=\"text-align: right;\">\n",
       "      <th></th>\n",
       "      <th>orderid</th>\n",
       "      <th>pick</th>\n",
       "      <th>1st_deliver_attempt</th>\n",
       "      <th>2nd_deliver_attempt</th>\n",
       "      <th>buyeraddress</th>\n",
       "      <th>selleraddress</th>\n",
       "      <th>pick_date</th>\n",
       "      <th>first_date</th>\n",
       "      <th>second_date</th>\n",
       "      <th>h_first</th>\n",
       "      <th>h_second</th>\n",
       "      <th>final_first</th>\n",
       "      <th>final_second</th>\n",
       "      <th>b_add</th>\n",
       "      <th>s_add</th>\n",
       "      <th>b_city</th>\n",
       "      <th>sla</th>\n",
       "      <th>s_city</th>\n",
       "    </tr>\n",
       "  </thead>\n",
       "  <tbody>\n",
       "    <tr>\n",
       "      <th>0</th>\n",
       "      <td>2215676524</td>\n",
       "      <td>1583138397</td>\n",
       "      <td>1.583385e+09</td>\n",
       "      <td>NaN</td>\n",
       "      <td>Baging ldl BUENAVISTA,PATAG.CAGAYAN Buagsong,c...</td>\n",
       "      <td>Pantranco vill. 417 Warehouse# katipunan 532 (...</td>\n",
       "      <td>2020-03-02</td>\n",
       "      <td>2020-03-05</td>\n",
       "      <td>NaT</td>\n",
       "      <td>0 days</td>\n",
       "      <td>0 days</td>\n",
       "      <td>3 days</td>\n",
       "      <td>NaT</td>\n",
       "      <td>Manila</td>\n",
       "      <td>Manila</td>\n",
       "      <td>Metro Manila</td>\n",
       "      <td>3 days</td>\n",
       "      <td>Metro Manila</td>\n",
       "    </tr>\n",
       "    <tr>\n",
       "      <th>1</th>\n",
       "      <td>2219624609</td>\n",
       "      <td>1583309968</td>\n",
       "      <td>1.583463e+09</td>\n",
       "      <td>1.583799e+09</td>\n",
       "      <td>coloma's quzom CASANAS Site1 Masiyan 533A Stol...</td>\n",
       "      <td>BLDG 210A Moras C42B 2B16,168 church) Complex ...</td>\n",
       "      <td>2020-03-04</td>\n",
       "      <td>2020-03-06</td>\n",
       "      <td>2020-03-10</td>\n",
       "      <td>0 days</td>\n",
       "      <td>1 days</td>\n",
       "      <td>2 days</td>\n",
       "      <td>3 days</td>\n",
       "      <td>Manila</td>\n",
       "      <td>Manila</td>\n",
       "      <td>Metro Manila</td>\n",
       "      <td>3 days</td>\n",
       "      <td>Metro Manila</td>\n",
       "    </tr>\n",
       "    <tr>\n",
       "      <th>2</th>\n",
       "      <td>2220979489</td>\n",
       "      <td>1583306434</td>\n",
       "      <td>1.583460e+09</td>\n",
       "      <td>NaN</td>\n",
       "      <td>21-O LumangDaan,Capitangan,Abucay,Bataan .Bign...</td>\n",
       "      <td>#66 150-C, DRIVE, Milagros Joe socorro Metro M...</td>\n",
       "      <td>2020-03-04</td>\n",
       "      <td>2020-03-06</td>\n",
       "      <td>NaT</td>\n",
       "      <td>0 days</td>\n",
       "      <td>0 days</td>\n",
       "      <td>2 days</td>\n",
       "      <td>NaT</td>\n",
       "      <td>manila</td>\n",
       "      <td>Manila</td>\n",
       "      <td>Metro Manila</td>\n",
       "      <td>3 days</td>\n",
       "      <td>Metro Manila</td>\n",
       "    </tr>\n",
       "    <tr>\n",
       "      <th>3</th>\n",
       "      <td>2221066352</td>\n",
       "      <td>1583419016</td>\n",
       "      <td>1.583556e+09</td>\n",
       "      <td>NaN</td>\n",
       "      <td>616Espiritu MARTINVILLE,MANUYO #5paraiso kengi...</td>\n",
       "      <td>999maII 201,26 Villaruel Barretto gen.t number...</td>\n",
       "      <td>2020-03-05</td>\n",
       "      <td>2020-03-07</td>\n",
       "      <td>NaT</td>\n",
       "      <td>0 days</td>\n",
       "      <td>0 days</td>\n",
       "      <td>2 days</td>\n",
       "      <td>NaT</td>\n",
       "      <td>Manila</td>\n",
       "      <td>Manila</td>\n",
       "      <td>Metro Manila</td>\n",
       "      <td>3 days</td>\n",
       "      <td>Metro Manila</td>\n",
       "    </tr>\n",
       "    <tr>\n",
       "      <th>4</th>\n",
       "      <td>2222478803</td>\n",
       "      <td>1583318305</td>\n",
       "      <td>1.583480e+09</td>\n",
       "      <td>NaN</td>\n",
       "      <td>L042 Summerbreezee1 L2(Balanay analyn Lot760 C...</td>\n",
       "      <td>G66MANILA Hiyas Fitness MAYSILO magdiwang Lt.4...</td>\n",
       "      <td>2020-03-04</td>\n",
       "      <td>2020-03-06</td>\n",
       "      <td>NaT</td>\n",
       "      <td>0 days</td>\n",
       "      <td>0 days</td>\n",
       "      <td>2 days</td>\n",
       "      <td>NaT</td>\n",
       "      <td>luzon</td>\n",
       "      <td>Manila</td>\n",
       "      <td>Luzon</td>\n",
       "      <td>5 days</td>\n",
       "      <td>Metro Manila</td>\n",
       "    </tr>\n",
       "  </tbody>\n",
       "</table>\n",
       "</div>"
      ],
      "text/plain": [
       "      orderid        pick  1st_deliver_attempt  2nd_deliver_attempt  \\\n",
       "0  2215676524  1583138397         1.583385e+09                  NaN   \n",
       "1  2219624609  1583309968         1.583463e+09         1.583799e+09   \n",
       "2  2220979489  1583306434         1.583460e+09                  NaN   \n",
       "3  2221066352  1583419016         1.583556e+09                  NaN   \n",
       "4  2222478803  1583318305         1.583480e+09                  NaN   \n",
       "\n",
       "                                        buyeraddress  \\\n",
       "0  Baging ldl BUENAVISTA,PATAG.CAGAYAN Buagsong,c...   \n",
       "1  coloma's quzom CASANAS Site1 Masiyan 533A Stol...   \n",
       "2  21-O LumangDaan,Capitangan,Abucay,Bataan .Bign...   \n",
       "3  616Espiritu MARTINVILLE,MANUYO #5paraiso kengi...   \n",
       "4  L042 Summerbreezee1 L2(Balanay analyn Lot760 C...   \n",
       "\n",
       "                                       selleraddress   pick_date  first_date  \\\n",
       "0  Pantranco vill. 417 Warehouse# katipunan 532 (...  2020-03-02  2020-03-05   \n",
       "1  BLDG 210A Moras C42B 2B16,168 church) Complex ...  2020-03-04  2020-03-06   \n",
       "2  #66 150-C, DRIVE, Milagros Joe socorro Metro M...  2020-03-04  2020-03-06   \n",
       "3  999maII 201,26 Villaruel Barretto gen.t number...  2020-03-05  2020-03-07   \n",
       "4  G66MANILA Hiyas Fitness MAYSILO magdiwang Lt.4...  2020-03-04  2020-03-06   \n",
       "\n",
       "  second_date h_first h_second final_first final_second   b_add   s_add  \\\n",
       "0         NaT  0 days   0 days      3 days          NaT  Manila  Manila   \n",
       "1  2020-03-10  0 days   1 days      2 days       3 days  Manila  Manila   \n",
       "2         NaT  0 days   0 days      2 days          NaT  manila  Manila   \n",
       "3         NaT  0 days   0 days      2 days          NaT  Manila  Manila   \n",
       "4         NaT  0 days   0 days      2 days          NaT   luzon  Manila   \n",
       "\n",
       "         b_city    sla        s_city  \n",
       "0  Metro Manila 3 days  Metro Manila  \n",
       "1  Metro Manila 3 days  Metro Manila  \n",
       "2  Metro Manila 3 days  Metro Manila  \n",
       "3  Metro Manila 3 days  Metro Manila  \n",
       "4         Luzon 5 days  Metro Manila  "
      ]
     },
     "execution_count": 57,
     "metadata": {},
     "output_type": "execute_result"
    }
   ],
   "source": [
    "df.head()"
   ]
  },
  {
   "cell_type": "raw",
   "metadata": {},
   "source": [
    "#21 找出一下欄位 'orderid', 'final_first', 'final_second', 'sla'\n",
    "    把結果存成 final_data"
   ]
  },
  {
   "cell_type": "code",
   "execution_count": 58,
   "metadata": {
    "ExecuteTime": {
     "end_time": "2021-05-14T07:34:03.871416Z",
     "start_time": "2021-05-14T07:34:03.788780Z"
    }
   },
   "outputs": [],
   "source": [
    "final_data = df[['orderid', 'final_first', 'final_second', 'sla']]"
   ]
  },
  {
   "cell_type": "code",
   "execution_count": 59,
   "metadata": {
    "ExecuteTime": {
     "end_time": "2021-05-14T07:34:15.083594Z",
     "start_time": "2021-05-14T07:34:15.066132Z"
    },
    "scrolled": true
   },
   "outputs": [
    {
     "data": {
      "text/html": [
       "<div>\n",
       "<style scoped>\n",
       "    .dataframe tbody tr th:only-of-type {\n",
       "        vertical-align: middle;\n",
       "    }\n",
       "\n",
       "    .dataframe tbody tr th {\n",
       "        vertical-align: top;\n",
       "    }\n",
       "\n",
       "    .dataframe thead th {\n",
       "        text-align: right;\n",
       "    }\n",
       "</style>\n",
       "<table border=\"1\" class=\"dataframe\">\n",
       "  <thead>\n",
       "    <tr style=\"text-align: right;\">\n",
       "      <th></th>\n",
       "      <th>orderid</th>\n",
       "      <th>final_first</th>\n",
       "      <th>final_second</th>\n",
       "      <th>sla</th>\n",
       "    </tr>\n",
       "  </thead>\n",
       "  <tbody>\n",
       "    <tr>\n",
       "      <th>0</th>\n",
       "      <td>2215676524</td>\n",
       "      <td>3 days</td>\n",
       "      <td>NaT</td>\n",
       "      <td>3 days</td>\n",
       "    </tr>\n",
       "    <tr>\n",
       "      <th>1</th>\n",
       "      <td>2219624609</td>\n",
       "      <td>2 days</td>\n",
       "      <td>3 days</td>\n",
       "      <td>3 days</td>\n",
       "    </tr>\n",
       "    <tr>\n",
       "      <th>2</th>\n",
       "      <td>2220979489</td>\n",
       "      <td>2 days</td>\n",
       "      <td>NaT</td>\n",
       "      <td>3 days</td>\n",
       "    </tr>\n",
       "    <tr>\n",
       "      <th>3</th>\n",
       "      <td>2221066352</td>\n",
       "      <td>2 days</td>\n",
       "      <td>NaT</td>\n",
       "      <td>3 days</td>\n",
       "    </tr>\n",
       "    <tr>\n",
       "      <th>4</th>\n",
       "      <td>2222478803</td>\n",
       "      <td>2 days</td>\n",
       "      <td>NaT</td>\n",
       "      <td>5 days</td>\n",
       "    </tr>\n",
       "    <tr>\n",
       "      <th>...</th>\n",
       "      <td>...</td>\n",
       "      <td>...</td>\n",
       "      <td>...</td>\n",
       "      <td>...</td>\n",
       "    </tr>\n",
       "    <tr>\n",
       "      <th>3176308</th>\n",
       "      <td>31504087640510</td>\n",
       "      <td>2 days</td>\n",
       "      <td>NaT</td>\n",
       "      <td>3 days</td>\n",
       "    </tr>\n",
       "    <tr>\n",
       "      <th>3176309</th>\n",
       "      <td>31504147352227</td>\n",
       "      <td>2 days</td>\n",
       "      <td>1 days</td>\n",
       "      <td>3 days</td>\n",
       "    </tr>\n",
       "    <tr>\n",
       "      <th>3176310</th>\n",
       "      <td>31504462290482</td>\n",
       "      <td>2 days</td>\n",
       "      <td>NaT</td>\n",
       "      <td>3 days</td>\n",
       "    </tr>\n",
       "    <tr>\n",
       "      <th>3176311</th>\n",
       "      <td>31504851495943</td>\n",
       "      <td>3 days</td>\n",
       "      <td>NaT</td>\n",
       "      <td>5 days</td>\n",
       "    </tr>\n",
       "    <tr>\n",
       "      <th>3176312</th>\n",
       "      <td>31505199116340</td>\n",
       "      <td>3 days</td>\n",
       "      <td>1 days</td>\n",
       "      <td>5 days</td>\n",
       "    </tr>\n",
       "  </tbody>\n",
       "</table>\n",
       "<p>3176313 rows × 4 columns</p>\n",
       "</div>"
      ],
      "text/plain": [
       "                orderid final_first final_second    sla\n",
       "0            2215676524      3 days          NaT 3 days\n",
       "1            2219624609      2 days       3 days 3 days\n",
       "2            2220979489      2 days          NaT 3 days\n",
       "3            2221066352      2 days          NaT 3 days\n",
       "4            2222478803      2 days          NaT 5 days\n",
       "...                 ...         ...          ...    ...\n",
       "3176308  31504087640510      2 days          NaT 3 days\n",
       "3176309  31504147352227      2 days       1 days 3 days\n",
       "3176310  31504462290482      2 days          NaT 3 days\n",
       "3176311  31504851495943      3 days          NaT 5 days\n",
       "3176312  31505199116340      3 days       1 days 5 days\n",
       "\n",
       "[3176313 rows x 4 columns]"
      ]
     },
     "execution_count": 59,
     "metadata": {},
     "output_type": "execute_result"
    }
   ],
   "source": [
    "final_data"
   ]
  },
  {
   "cell_type": "raw",
   "metadata": {},
   "source": [
    "#22 在 final_data 新增一個欄位 is_late\n",
    "    並讓他等於0"
   ]
  },
  {
   "cell_type": "code",
   "execution_count": 61,
   "metadata": {
    "ExecuteTime": {
     "end_time": "2021-05-14T07:36:00.126871Z",
     "start_time": "2021-05-14T07:36:00.106881Z"
    }
   },
   "outputs": [
    {
     "name": "stderr",
     "output_type": "stream",
     "text": [
      "<ipython-input-61-ba8a2d4abc07>:1: SettingWithCopyWarning: \n",
      "A value is trying to be set on a copy of a slice from a DataFrame.\n",
      "Try using .loc[row_indexer,col_indexer] = value instead\n",
      "\n",
      "See the caveats in the documentation: https://pandas.pydata.org/pandas-docs/stable/user_guide/indexing.html#returning-a-view-versus-a-copy\n",
      "  final_data['is_late'] = 0\n"
     ]
    }
   ],
   "source": [
    "final_data['is_late'] = 0"
   ]
  },
  {
   "cell_type": "raw",
   "metadata": {},
   "source": [
    "#23 找出 final_first > sla\n",
    "    只呈現 is_late 欄位"
   ]
  },
  {
   "cell_type": "code",
   "execution_count": null,
   "metadata": {},
   "outputs": [],
   "source": []
  },
  {
   "cell_type": "raw",
   "metadata": {},
   "source": [
    "#24 找出 final_first > sla\n",
    "    只呈現 is_late 欄位\n",
    "    並將 is_late 欄位等於1"
   ]
  },
  {
   "cell_type": "code",
   "execution_count": 63,
   "metadata": {
    "ExecuteTime": {
     "end_time": "2021-05-14T07:43:23.161117Z",
     "start_time": "2021-05-14T07:43:23.102141Z"
    }
   },
   "outputs": [
    {
     "name": "stderr",
     "output_type": "stream",
     "text": [
      "C:\\Users\\Tibame_T14\\anaconda3\\lib\\site-packages\\pandas\\core\\indexing.py:1765: SettingWithCopyWarning: \n",
      "A value is trying to be set on a copy of a slice from a DataFrame.\n",
      "Try using .loc[row_indexer,col_indexer] = value instead\n",
      "\n",
      "See the caveats in the documentation: https://pandas.pydata.org/pandas-docs/stable/user_guide/indexing.html#returning-a-view-versus-a-copy\n",
      "  isetter(loc, value)\n"
     ]
    }
   ],
   "source": [
    "final_data.loc[final_data['final_first'] > final_data['sla'], 'is_late'] = 1"
   ]
  },
  {
   "cell_type": "code",
   "execution_count": 64,
   "metadata": {
    "ExecuteTime": {
     "end_time": "2021-05-14T07:43:23.239876Z",
     "start_time": "2021-05-14T07:43:23.225914Z"
    }
   },
   "outputs": [
    {
     "data": {
      "text/html": [
       "<div>\n",
       "<style scoped>\n",
       "    .dataframe tbody tr th:only-of-type {\n",
       "        vertical-align: middle;\n",
       "    }\n",
       "\n",
       "    .dataframe tbody tr th {\n",
       "        vertical-align: top;\n",
       "    }\n",
       "\n",
       "    .dataframe thead th {\n",
       "        text-align: right;\n",
       "    }\n",
       "</style>\n",
       "<table border=\"1\" class=\"dataframe\">\n",
       "  <thead>\n",
       "    <tr style=\"text-align: right;\">\n",
       "      <th></th>\n",
       "      <th>orderid</th>\n",
       "      <th>final_first</th>\n",
       "      <th>final_second</th>\n",
       "      <th>sla</th>\n",
       "      <th>is_late</th>\n",
       "    </tr>\n",
       "  </thead>\n",
       "  <tbody>\n",
       "    <tr>\n",
       "      <th>0</th>\n",
       "      <td>2215676524</td>\n",
       "      <td>3 days</td>\n",
       "      <td>NaT</td>\n",
       "      <td>3 days</td>\n",
       "      <td>0</td>\n",
       "    </tr>\n",
       "    <tr>\n",
       "      <th>1</th>\n",
       "      <td>2219624609</td>\n",
       "      <td>2 days</td>\n",
       "      <td>3 days</td>\n",
       "      <td>3 days</td>\n",
       "      <td>0</td>\n",
       "    </tr>\n",
       "    <tr>\n",
       "      <th>2</th>\n",
       "      <td>2220979489</td>\n",
       "      <td>2 days</td>\n",
       "      <td>NaT</td>\n",
       "      <td>3 days</td>\n",
       "      <td>0</td>\n",
       "    </tr>\n",
       "    <tr>\n",
       "      <th>3</th>\n",
       "      <td>2221066352</td>\n",
       "      <td>2 days</td>\n",
       "      <td>NaT</td>\n",
       "      <td>3 days</td>\n",
       "      <td>0</td>\n",
       "    </tr>\n",
       "    <tr>\n",
       "      <th>4</th>\n",
       "      <td>2222478803</td>\n",
       "      <td>2 days</td>\n",
       "      <td>NaT</td>\n",
       "      <td>5 days</td>\n",
       "      <td>0</td>\n",
       "    </tr>\n",
       "    <tr>\n",
       "      <th>5</th>\n",
       "      <td>2222597288</td>\n",
       "      <td>3 days</td>\n",
       "      <td>NaT</td>\n",
       "      <td>3 days</td>\n",
       "      <td>0</td>\n",
       "    </tr>\n",
       "    <tr>\n",
       "      <th>6</th>\n",
       "      <td>2222738456</td>\n",
       "      <td>3 days</td>\n",
       "      <td>3 days</td>\n",
       "      <td>3 days</td>\n",
       "      <td>0</td>\n",
       "    </tr>\n",
       "    <tr>\n",
       "      <th>7</th>\n",
       "      <td>2224695304</td>\n",
       "      <td>7 days</td>\n",
       "      <td>NaT</td>\n",
       "      <td>3 days</td>\n",
       "      <td>1</td>\n",
       "    </tr>\n",
       "    <tr>\n",
       "      <th>8</th>\n",
       "      <td>2224704587</td>\n",
       "      <td>1 days</td>\n",
       "      <td>3 days</td>\n",
       "      <td>5 days</td>\n",
       "      <td>0</td>\n",
       "    </tr>\n",
       "    <tr>\n",
       "      <th>9</th>\n",
       "      <td>2225138267</td>\n",
       "      <td>5 days</td>\n",
       "      <td>NaT</td>\n",
       "      <td>7 days</td>\n",
       "      <td>0</td>\n",
       "    </tr>\n",
       "    <tr>\n",
       "      <th>10</th>\n",
       "      <td>2225861241</td>\n",
       "      <td>2 days</td>\n",
       "      <td>NaT</td>\n",
       "      <td>3 days</td>\n",
       "      <td>0</td>\n",
       "    </tr>\n",
       "    <tr>\n",
       "      <th>11</th>\n",
       "      <td>2226935316</td>\n",
       "      <td>3 days</td>\n",
       "      <td>NaT</td>\n",
       "      <td>5 days</td>\n",
       "      <td>0</td>\n",
       "    </tr>\n",
       "    <tr>\n",
       "      <th>12</th>\n",
       "      <td>2226951056</td>\n",
       "      <td>2 days</td>\n",
       "      <td>NaT</td>\n",
       "      <td>3 days</td>\n",
       "      <td>0</td>\n",
       "    </tr>\n",
       "    <tr>\n",
       "      <th>13</th>\n",
       "      <td>2227381103</td>\n",
       "      <td>3 days</td>\n",
       "      <td>NaT</td>\n",
       "      <td>5 days</td>\n",
       "      <td>0</td>\n",
       "    </tr>\n",
       "    <tr>\n",
       "      <th>14</th>\n",
       "      <td>2227760598</td>\n",
       "      <td>5 days</td>\n",
       "      <td>NaT</td>\n",
       "      <td>7 days</td>\n",
       "      <td>0</td>\n",
       "    </tr>\n",
       "    <tr>\n",
       "      <th>15</th>\n",
       "      <td>2227768858</td>\n",
       "      <td>2 days</td>\n",
       "      <td>NaT</td>\n",
       "      <td>3 days</td>\n",
       "      <td>0</td>\n",
       "    </tr>\n",
       "    <tr>\n",
       "      <th>16</th>\n",
       "      <td>2227771109</td>\n",
       "      <td>2 days</td>\n",
       "      <td>1 days</td>\n",
       "      <td>3 days</td>\n",
       "      <td>0</td>\n",
       "    </tr>\n",
       "    <tr>\n",
       "      <th>17</th>\n",
       "      <td>2227783105</td>\n",
       "      <td>3 days</td>\n",
       "      <td>2 days</td>\n",
       "      <td>3 days</td>\n",
       "      <td>0</td>\n",
       "    </tr>\n",
       "    <tr>\n",
       "      <th>18</th>\n",
       "      <td>2227783217</td>\n",
       "      <td>3 days</td>\n",
       "      <td>NaT</td>\n",
       "      <td>3 days</td>\n",
       "      <td>0</td>\n",
       "    </tr>\n",
       "    <tr>\n",
       "      <th>19</th>\n",
       "      <td>2227790841</td>\n",
       "      <td>7 days</td>\n",
       "      <td>7 days</td>\n",
       "      <td>7 days</td>\n",
       "      <td>0</td>\n",
       "    </tr>\n",
       "  </tbody>\n",
       "</table>\n",
       "</div>"
      ],
      "text/plain": [
       "       orderid final_first final_second    sla  is_late\n",
       "0   2215676524      3 days          NaT 3 days        0\n",
       "1   2219624609      2 days       3 days 3 days        0\n",
       "2   2220979489      2 days          NaT 3 days        0\n",
       "3   2221066352      2 days          NaT 3 days        0\n",
       "4   2222478803      2 days          NaT 5 days        0\n",
       "5   2222597288      3 days          NaT 3 days        0\n",
       "6   2222738456      3 days       3 days 3 days        0\n",
       "7   2224695304      7 days          NaT 3 days        1\n",
       "8   2224704587      1 days       3 days 5 days        0\n",
       "9   2225138267      5 days          NaT 7 days        0\n",
       "10  2225861241      2 days          NaT 3 days        0\n",
       "11  2226935316      3 days          NaT 5 days        0\n",
       "12  2226951056      2 days          NaT 3 days        0\n",
       "13  2227381103      3 days          NaT 5 days        0\n",
       "14  2227760598      5 days          NaT 7 days        0\n",
       "15  2227768858      2 days          NaT 3 days        0\n",
       "16  2227771109      2 days       1 days 3 days        0\n",
       "17  2227783105      3 days       2 days 3 days        0\n",
       "18  2227783217      3 days          NaT 3 days        0\n",
       "19  2227790841      7 days       7 days 7 days        0"
      ]
     },
     "execution_count": 64,
     "metadata": {},
     "output_type": "execute_result"
    }
   ],
   "source": [
    "final_data[:20]"
   ]
  },
  {
   "cell_type": "raw",
   "metadata": {},
   "source": [
    "#25 找出 final_second > 3天\n",
    "    只呈現 is_late 欄位"
   ]
  },
  {
   "cell_type": "code",
   "execution_count": 70,
   "metadata": {
    "ExecuteTime": {
     "end_time": "2021-05-14T07:48:25.880988Z",
     "start_time": "2021-05-14T07:48:25.816109Z"
    }
   },
   "outputs": [
    {
     "data": {
      "text/plain": [
       "19         0\n",
       "71         0\n",
       "99         0\n",
       "104        1\n",
       "134        0\n",
       "          ..\n",
       "3174691    0\n",
       "3174925    0\n",
       "3174937    0\n",
       "3175085    0\n",
       "3175135    0\n",
       "Name: is_late, Length: 345629, dtype: int64"
      ]
     },
     "execution_count": 70,
     "metadata": {},
     "output_type": "execute_result"
    }
   ],
   "source": [
    "final_data.loc[final_data['final_second'] > timedelta(days=3), 'is_late']"
   ]
  },
  {
   "cell_type": "raw",
   "metadata": {},
   "source": [
    "#26 找出 final_second > 3天\n",
    "    只呈現 is_late 欄位\n",
    "    並將 is_late 欄位等於1"
   ]
  },
  {
   "cell_type": "code",
   "execution_count": 72,
   "metadata": {
    "ExecuteTime": {
     "end_time": "2021-05-14T07:50:49.400145Z",
     "start_time": "2021-05-14T07:50:49.318870Z"
    }
   },
   "outputs": [
    {
     "name": "stderr",
     "output_type": "stream",
     "text": [
      "C:\\Users\\Tibame_T14\\anaconda3\\lib\\site-packages\\pandas\\core\\indexing.py:1765: SettingWithCopyWarning: \n",
      "A value is trying to be set on a copy of a slice from a DataFrame.\n",
      "Try using .loc[row_indexer,col_indexer] = value instead\n",
      "\n",
      "See the caveats in the documentation: https://pandas.pydata.org/pandas-docs/stable/user_guide/indexing.html#returning-a-view-versus-a-copy\n",
      "  isetter(loc, value)\n"
     ]
    }
   ],
   "source": [
    "final_data.loc[final_data['final_second'] > timedelta(days=3), 'is_late']=1"
   ]
  },
  {
   "cell_type": "code",
   "execution_count": null,
   "metadata": {},
   "outputs": [],
   "source": []
  },
  {
   "cell_type": "raw",
   "metadata": {},
   "source": [
    "#27 從 final_data 裡取出 'orderid', 'is_late'"
   ]
  },
  {
   "cell_type": "code",
   "execution_count": 68,
   "metadata": {
    "ExecuteTime": {
     "end_time": "2021-05-14T07:48:00.442647Z",
     "start_time": "2021-05-14T07:48:00.417624Z"
    }
   },
   "outputs": [
    {
     "data": {
      "text/html": [
       "<div>\n",
       "<style scoped>\n",
       "    .dataframe tbody tr th:only-of-type {\n",
       "        vertical-align: middle;\n",
       "    }\n",
       "\n",
       "    .dataframe tbody tr th {\n",
       "        vertical-align: top;\n",
       "    }\n",
       "\n",
       "    .dataframe thead th {\n",
       "        text-align: right;\n",
       "    }\n",
       "</style>\n",
       "<table border=\"1\" class=\"dataframe\">\n",
       "  <thead>\n",
       "    <tr style=\"text-align: right;\">\n",
       "      <th></th>\n",
       "      <th>orderid</th>\n",
       "      <th>is_late</th>\n",
       "    </tr>\n",
       "  </thead>\n",
       "  <tbody>\n",
       "    <tr>\n",
       "      <th>0</th>\n",
       "      <td>2215676524</td>\n",
       "      <td>0</td>\n",
       "    </tr>\n",
       "    <tr>\n",
       "      <th>1</th>\n",
       "      <td>2219624609</td>\n",
       "      <td>0</td>\n",
       "    </tr>\n",
       "    <tr>\n",
       "      <th>2</th>\n",
       "      <td>2220979489</td>\n",
       "      <td>0</td>\n",
       "    </tr>\n",
       "    <tr>\n",
       "      <th>3</th>\n",
       "      <td>2221066352</td>\n",
       "      <td>0</td>\n",
       "    </tr>\n",
       "    <tr>\n",
       "      <th>4</th>\n",
       "      <td>2222478803</td>\n",
       "      <td>0</td>\n",
       "    </tr>\n",
       "    <tr>\n",
       "      <th>...</th>\n",
       "      <td>...</td>\n",
       "      <td>...</td>\n",
       "    </tr>\n",
       "    <tr>\n",
       "      <th>3176308</th>\n",
       "      <td>31504087640510</td>\n",
       "      <td>0</td>\n",
       "    </tr>\n",
       "    <tr>\n",
       "      <th>3176309</th>\n",
       "      <td>31504147352227</td>\n",
       "      <td>0</td>\n",
       "    </tr>\n",
       "    <tr>\n",
       "      <th>3176310</th>\n",
       "      <td>31504462290482</td>\n",
       "      <td>0</td>\n",
       "    </tr>\n",
       "    <tr>\n",
       "      <th>3176311</th>\n",
       "      <td>31504851495943</td>\n",
       "      <td>0</td>\n",
       "    </tr>\n",
       "    <tr>\n",
       "      <th>3176312</th>\n",
       "      <td>31505199116340</td>\n",
       "      <td>0</td>\n",
       "    </tr>\n",
       "  </tbody>\n",
       "</table>\n",
       "<p>3176313 rows × 2 columns</p>\n",
       "</div>"
      ],
      "text/plain": [
       "                orderid  is_late\n",
       "0            2215676524        0\n",
       "1            2219624609        0\n",
       "2            2220979489        0\n",
       "3            2221066352        0\n",
       "4            2222478803        0\n",
       "...                 ...      ...\n",
       "3176308  31504087640510        0\n",
       "3176309  31504147352227        0\n",
       "3176310  31504462290482        0\n",
       "3176311  31504851495943        0\n",
       "3176312  31505199116340        0\n",
       "\n",
       "[3176313 rows x 2 columns]"
      ]
     },
     "execution_count": 68,
     "metadata": {},
     "output_type": "execute_result"
    }
   ],
   "source": [
    "final_data[['orderid', 'is_late']]"
   ]
  },
  {
   "cell_type": "raw",
   "metadata": {},
   "source": [
    "#28 將26題存成csv檔\n",
    "    記得不要輸出 index 欄位"
   ]
  },
  {
   "cell_type": "code",
   "execution_count": 73,
   "metadata": {
    "ExecuteTime": {
     "end_time": "2021-05-14T07:50:59.061478Z",
     "start_time": "2021-05-14T07:50:55.495605Z"
    }
   },
   "outputs": [],
   "source": [
    "final_data[['orderid', 'is_late']].to_csv('submit.csv', index=False)"
   ]
  },
  {
   "cell_type": "code",
   "execution_count": null,
   "metadata": {},
   "outputs": [],
   "source": []
  }
 ],
 "metadata": {
  "kernelspec": {
   "display_name": "Python 3",
   "language": "python",
   "name": "python3"
  },
  "language_info": {
   "codemirror_mode": {
    "name": "ipython",
    "version": 3
   },
   "file_extension": ".py",
   "mimetype": "text/x-python",
   "name": "python",
   "nbconvert_exporter": "python",
   "pygments_lexer": "ipython3",
   "version": "3.8.5"
  },
  "toc": {
   "base_numbering": 1,
   "nav_menu": {},
   "number_sections": true,
   "sideBar": true,
   "skip_h1_title": false,
   "title_cell": "Table of Contents",
   "title_sidebar": "Contents",
   "toc_cell": false,
   "toc_position": {},
   "toc_section_display": true,
   "toc_window_display": false
  },
  "varInspector": {
   "cols": {
    "lenName": 16,
    "lenType": 16,
    "lenVar": 40
   },
   "kernels_config": {
    "python": {
     "delete_cmd_postfix": "",
     "delete_cmd_prefix": "del ",
     "library": "var_list.py",
     "varRefreshCmd": "print(var_dic_list())"
    },
    "r": {
     "delete_cmd_postfix": ") ",
     "delete_cmd_prefix": "rm(",
     "library": "var_list.r",
     "varRefreshCmd": "cat(var_dic_list()) "
    }
   },
   "types_to_exclude": [
    "module",
    "function",
    "builtin_function_or_method",
    "instance",
    "_Feature"
   ],
   "window_display": false
  }
 },
 "nbformat": 4,
 "nbformat_minor": 4
}
